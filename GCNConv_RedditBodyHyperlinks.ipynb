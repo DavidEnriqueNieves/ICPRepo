{
  "cells": [
    {
      "cell_type": "markdown",
      "source": [
        "#WORKS WITHOUT CUSTOM DATASET"
      ],
      "metadata": {
        "id": "WYgyxGo6zU-L"
      }
    },
    {
      "cell_type": "code",
      "execution_count": null,
      "metadata": {
        "colab": {
          "base_uri": "https://localhost:8080/"
        },
        "id": "VxOyE7DACKeT",
        "outputId": "e897e1ae-1668-4825-e6d8-74d024cdd2ed"
      },
      "outputs": [
        {
          "output_type": "stream",
          "name": "stdout",
          "text": [
            "Looking in indexes: https://pypi.org/simple, https://us-python.pkg.dev/colab-wheels/public/simple/\n",
            "Requirement already satisfied: torch in /usr/local/lib/python3.9/dist-packages (2.0.0+cu118)\n",
            "Requirement already satisfied: filelock in /usr/local/lib/python3.9/dist-packages (from torch) (3.11.0)\n",
            "Requirement already satisfied: triton==2.0.0 in /usr/local/lib/python3.9/dist-packages (from torch) (2.0.0)\n",
            "Requirement already satisfied: sympy in /usr/local/lib/python3.9/dist-packages (from torch) (1.11.1)\n",
            "Requirement already satisfied: networkx in /usr/local/lib/python3.9/dist-packages (from torch) (3.1)\n",
            "Requirement already satisfied: jinja2 in /usr/local/lib/python3.9/dist-packages (from torch) (3.1.2)\n",
            "Requirement already satisfied: typing-extensions in /usr/local/lib/python3.9/dist-packages (from torch) (4.5.0)\n",
            "Requirement already satisfied: cmake in /usr/local/lib/python3.9/dist-packages (from triton==2.0.0->torch) (3.25.2)\n",
            "Requirement already satisfied: lit in /usr/local/lib/python3.9/dist-packages (from triton==2.0.0->torch) (16.0.1)\n",
            "Requirement already satisfied: MarkupSafe>=2.0 in /usr/local/lib/python3.9/dist-packages (from jinja2->torch) (2.1.2)\n",
            "Requirement already satisfied: mpmath>=0.19 in /usr/local/lib/python3.9/dist-packages (from sympy->torch) (1.3.0)\n",
            "Looking in indexes: https://pypi.org/simple, https://us-python.pkg.dev/colab-wheels/public/simple/\n",
            "Collecting torch_geometric\n",
            "  Downloading torch_geometric-2.3.0.tar.gz (616 kB)\n",
            "\u001b[2K     \u001b[90m━━━━━━━━━━━━━━━━━━━━━━━━━━━━━━━━━━━━━━━\u001b[0m \u001b[32m616.2/616.2 kB\u001b[0m \u001b[31m6.6 MB/s\u001b[0m eta \u001b[36m0:00:00\u001b[0m\n",
            "\u001b[?25h  Installing build dependencies ... \u001b[?25l\u001b[?25hdone\n",
            "  Getting requirements to build wheel ... \u001b[?25l\u001b[?25hdone\n",
            "  Preparing metadata (pyproject.toml) ... \u001b[?25l\u001b[?25hdone\n",
            "Requirement already satisfied: psutil>=5.8.0 in /usr/local/lib/python3.9/dist-packages (from torch_geometric) (5.9.5)\n",
            "Requirement already satisfied: jinja2 in /usr/local/lib/python3.9/dist-packages (from torch_geometric) (3.1.2)\n",
            "Requirement already satisfied: pyparsing in /usr/local/lib/python3.9/dist-packages (from torch_geometric) (3.0.9)\n",
            "Requirement already satisfied: scikit-learn in /usr/local/lib/python3.9/dist-packages (from torch_geometric) (1.2.2)\n",
            "Requirement already satisfied: requests in /usr/local/lib/python3.9/dist-packages (from torch_geometric) (2.27.1)\n",
            "Requirement already satisfied: scipy in /usr/local/lib/python3.9/dist-packages (from torch_geometric) (1.10.1)\n",
            "Requirement already satisfied: numpy in /usr/local/lib/python3.9/dist-packages (from torch_geometric) (1.22.4)\n",
            "Requirement already satisfied: tqdm in /usr/local/lib/python3.9/dist-packages (from torch_geometric) (4.65.0)\n",
            "Requirement already satisfied: MarkupSafe>=2.0 in /usr/local/lib/python3.9/dist-packages (from jinja2->torch_geometric) (2.1.2)\n",
            "Requirement already satisfied: charset-normalizer~=2.0.0 in /usr/local/lib/python3.9/dist-packages (from requests->torch_geometric) (2.0.12)\n",
            "Requirement already satisfied: urllib3<1.27,>=1.21.1 in /usr/local/lib/python3.9/dist-packages (from requests->torch_geometric) (1.26.15)\n",
            "Requirement already satisfied: idna<4,>=2.5 in /usr/local/lib/python3.9/dist-packages (from requests->torch_geometric) (3.4)\n",
            "Requirement already satisfied: certifi>=2017.4.17 in /usr/local/lib/python3.9/dist-packages (from requests->torch_geometric) (2022.12.7)\n",
            "Requirement already satisfied: joblib>=1.1.1 in /usr/local/lib/python3.9/dist-packages (from scikit-learn->torch_geometric) (1.2.0)\n",
            "Requirement already satisfied: threadpoolctl>=2.0.0 in /usr/local/lib/python3.9/dist-packages (from scikit-learn->torch_geometric) (3.1.0)\n",
            "Building wheels for collected packages: torch_geometric\n",
            "  Building wheel for torch_geometric (pyproject.toml) ... \u001b[?25l\u001b[?25hdone\n",
            "  Created wheel for torch_geometric: filename=torch_geometric-2.3.0-py3-none-any.whl size=909897 sha256=5b38480893d0d524c1dc6fa38713829ec7778441b4e8ea0187cd8e9587f04e0f\n",
            "  Stored in directory: /root/.cache/pip/wheels/cd/7d/6b/17150450b80b4a3656a84330e22709ccd8dc0f8f4773ba4133\n",
            "Successfully built torch_geometric\n",
            "Installing collected packages: torch_geometric\n",
            "Successfully installed torch_geometric-2.3.0\n",
            "Looking in indexes: https://pypi.org/simple, https://us-python.pkg.dev/colab-wheels/public/simple/\n",
            "Collecting dgl\n",
            "  Downloading dgl-1.0.1-cp39-cp39-manylinux1_x86_64.whl (5.4 MB)\n",
            "\u001b[2K     \u001b[90m━━━━━━━━━━━━━━━━━━━━━━━━━━━━━━━━━━━━━━━━\u001b[0m \u001b[32m5.4/5.4 MB\u001b[0m \u001b[31m39.9 MB/s\u001b[0m eta \u001b[36m0:00:00\u001b[0m\n",
            "\u001b[?25hRequirement already satisfied: scipy>=1.1.0 in /usr/local/lib/python3.9/dist-packages (from dgl) (1.10.1)\n",
            "Requirement already satisfied: requests>=2.19.0 in /usr/local/lib/python3.9/dist-packages (from dgl) (2.27.1)\n",
            "Requirement already satisfied: psutil>=5.8.0 in /usr/local/lib/python3.9/dist-packages (from dgl) (5.9.5)\n",
            "Requirement already satisfied: tqdm in /usr/local/lib/python3.9/dist-packages (from dgl) (4.65.0)\n",
            "Requirement already satisfied: numpy>=1.14.0 in /usr/local/lib/python3.9/dist-packages (from dgl) (1.22.4)\n",
            "Requirement already satisfied: networkx>=2.1 in /usr/local/lib/python3.9/dist-packages (from dgl) (3.1)\n",
            "Requirement already satisfied: certifi>=2017.4.17 in /usr/local/lib/python3.9/dist-packages (from requests>=2.19.0->dgl) (2022.12.7)\n",
            "Requirement already satisfied: idna<4,>=2.5 in /usr/local/lib/python3.9/dist-packages (from requests>=2.19.0->dgl) (3.4)\n",
            "Requirement already satisfied: urllib3<1.27,>=1.21.1 in /usr/local/lib/python3.9/dist-packages (from requests>=2.19.0->dgl) (1.26.15)\n",
            "Requirement already satisfied: charset-normalizer~=2.0.0 in /usr/local/lib/python3.9/dist-packages (from requests>=2.19.0->dgl) (2.0.12)\n",
            "Installing collected packages: dgl\n",
            "Successfully installed dgl-1.0.1\n"
          ]
        }
      ],
      "source": [
        "!pip install torch\n",
        "!pip install torch_geometric\n",
        "!pip install dgl"
      ]
    },
    {
      "cell_type": "code",
      "source": [
        "%matplotlib inline"
      ],
      "metadata": {
        "id": "fpm5IZ_RBxGb"
      },
      "execution_count": null,
      "outputs": []
    },
    {
      "cell_type": "code",
      "execution_count": null,
      "metadata": {
        "colab": {
          "base_uri": "https://localhost:8080/"
        },
        "id": "bIo9jaTUJ2-4",
        "outputId": "f7eca5e6-b5f4-41a3-e8d3-c02b62686219"
      },
      "outputs": [
        {
          "output_type": "stream",
          "name": "stdout",
          "text": [
            "Looking in indexes: https://pypi.org/simple, https://us-python.pkg.dev/colab-wheels/public/simple/\n",
            "Collecting snap-stanford\n",
            "  Downloading snap_stanford-6.0.0-cp39-cp39-manylinux1_x86_64.whl (11.7 MB)\n",
            "\u001b[2K     \u001b[90m━━━━━━━━━━━━━━━━━━━━━━━━━━━━━━━━━━━━━━━━\u001b[0m \u001b[32m11.7/11.7 MB\u001b[0m \u001b[31m26.5 MB/s\u001b[0m eta \u001b[36m0:00:00\u001b[0m\n",
            "\u001b[?25hInstalling collected packages: snap-stanford\n",
            "Successfully installed snap-stanford-6.0.0\n"
          ]
        }
      ],
      "source": [
        "!pip install snap-stanford"
      ]
    },
    {
      "cell_type": "code",
      "execution_count": null,
      "metadata": {
        "colab": {
          "base_uri": "https://localhost:8080/"
        },
        "id": "PDEUmwPSLvnF",
        "outputId": "a9893ae4-0f6f-43a2-e5aa-419fbe7a7ac9"
      },
      "outputs": [
        {
          "output_type": "stream",
          "name": "stdout",
          "text": [
            "Mounted at /content/drive/\n"
          ]
        }
      ],
      "source": [
        "from google.colab import drive\n",
        "drive.mount('/content/drive/')"
      ]
    },
    {
      "cell_type": "code",
      "execution_count": null,
      "metadata": {
        "id": "IUPyb--VKX_F",
        "colab": {
          "base_uri": "https://localhost:8080/"
        },
        "outputId": "8c644553-9f4b-43f5-e6bc-a7edcd99b461"
      },
      "outputs": [
        {
          "output_type": "stream",
          "name": "stderr",
          "text": [
            "DGL backend not selected or invalid.  Assuming PyTorch for now.\n"
          ]
        },
        {
          "output_type": "stream",
          "name": "stdout",
          "text": [
            "Setting the default backend to \"pytorch\". You can change it in the ~/.dgl/config.json file or export the DGLBACKEND environment variable.  Valid options are: pytorch, mxnet, tensorflow (all lowercase)\n"
          ]
        }
      ],
      "source": [
        "import snap\n",
        "import pandas as pd\n",
        "import dgl\n",
        "import torch\n",
        "import torch.nn as nn\n",
        "import torch.nn.functional as F\n",
        "import itertools\n",
        "import numpy as np\n",
        "import scipy.sparse as sp\n",
        "import dgl.data\n",
        "from dgl.nn import SAGEConv\n",
        "import dgl.function as fn\n",
        "\n",
        "\n",
        "graph_path = \"/content/drive/MyDrive/ICPC/RedditHyperlinks.tsv\"\n",
        "G5 = snap.LoadEdgeList(snap.TNGraph,graph_path , 0, 1)\n",
        "\n",
        "\n"
      ]
    },
    {
      "cell_type": "code",
      "execution_count": null,
      "metadata": {
        "id": "o3QmlYW1VBnc"
      },
      "outputs": [],
      "source": [
        "df = pd.read_csv(graph_path, sep='\\t')\n"
      ]
    },
    {
      "cell_type": "code",
      "execution_count": null,
      "metadata": {
        "colab": {
          "base_uri": "https://localhost:8080/"
        },
        "id": "0wU_jEgpqyww",
        "outputId": "3d41f53b-f864-4600-c010-18b3138fa9c5"
      },
      "outputs": [
        {
          "output_type": "execute_result",
          "data": {
            "text/plain": [
              "(4488, 2448, 2040)"
            ]
          },
          "metadata": {},
          "execution_count": 7
        }
      ],
      "source": [
        "len(list(set(df[\"SOURCE_SUBREDDIT\"])) + list(set(df[\"TARGET_SUBREDDIT\"]))), len(set(df[\"SOURCE_SUBREDDIT\"])), len(set(df[\"TARGET_SUBREDDIT\"]))"
      ]
    },
    {
      "cell_type": "code",
      "execution_count": null,
      "metadata": {
        "colab": {
          "base_uri": "https://localhost:8080/"
        },
        "id": "p3mFS2cBr6cr",
        "outputId": "e0239258-ae84-42e4-cb87-b2350619fb70"
      },
      "outputs": [
        {
          "output_type": "stream",
          "name": "stdout",
          "text": [
            "Looking in indexes: https://pypi.org/simple, https://us-python.pkg.dev/colab-wheels/public/simple/\n",
            "Requirement already satisfied: tqdm in /usr/local/lib/python3.9/dist-packages (4.65.0)\n"
          ]
        }
      ],
      "source": [
        "!pip install tqdm"
      ]
    },
    {
      "cell_type": "code",
      "execution_count": null,
      "metadata": {
        "id": "rvOXQdCtSSeE"
      },
      "outputs": [],
      "source": [
        "import torch"
      ]
    },
    {
      "cell_type": "code",
      "execution_count": null,
      "metadata": {
        "cellView": "form",
        "colab": {
          "base_uri": "https://localhost:8080/"
        },
        "id": "QZKZL9aXgo3v",
        "outputId": "c7753051-45b6-456d-c384-91f746519804"
      },
      "outputs": [
        {
          "output_type": "stream",
          "name": "stderr",
          "text": [
            "7798it [00:02, 3846.78it/s]\n"
          ]
        },
        {
          "output_type": "stream",
          "name": "stdout",
          "text": [
            "len(POST_PROPERTIES)=33\n"
          ]
        }
      ],
      "source": [
        "#@title Default title text\n",
        "import pickle\n",
        "from tqdm import tqdm\n",
        "uniq_sreddits = list(set(df[\"SOURCE_SUBREDDIT\"])) + list(set(df[\"TARGET_SUBREDDIT\"]))\n",
        "subreddit_stats = {i : {} for i, x in enumerate(uniq_sreddits) }\n",
        "edge_indices = []\n",
        "\n",
        "def gather_node_edge_statistics(df):\n",
        "  for i, row in tqdm(df.iterrows()):\n",
        "    SOURCE_SUBREDDIT = uniq_sreddits.index(row[0])\n",
        "    TARGET_SUBREDDIT = uniq_sreddits.index(row[1])\n",
        "    edge_indices.append([SOURCE_SUBREDDIT, TARGET_SUBREDDIT])\n",
        "    # POST_ID          = row[2]\n",
        "    # TIMESTAMP        = row[3]\n",
        "    POST_LABEL       = row[4]\n",
        "    POST_PROPERTIES  = row[5].split(\",\")\n",
        "\n",
        "    # we are primarily interested in these averages:\n",
        "    #8. Number of words\n",
        "    #43. LIWC_Swear\n",
        "    #19. Positive sentiment calculated by VADER\n",
        "    #20. Negative sentiment calculated by VADER\n",
        "    #21. Compound sentiment calculated by VADER\n",
        "    #82. LIWC_Death\n",
        "    #11. Average word length\n",
        "    # assert len(POST_PROPERTIES) == 86\n",
        "    if(len(POST_PROPERTIES) != 86):\n",
        "      print(f\"{len(POST_PROPERTIES)=}\")\n",
        "    else:\n",
        "      nwords = float(POST_PROPERTIES[8-1])\n",
        "      swear_sentiment = float(POST_PROPERTIES[43 -1])\n",
        "      positivity = float(POST_PROPERTIES[19 -1])\n",
        "      negativity = float(POST_PROPERTIES[20 -1])\n",
        "      compound = float(POST_PROPERTIES[21 -1])\n",
        "      avg_word_length = float(POST_PROPERTIES[11 - 1])\n",
        "      # print(f\"{POST_PROPERTIES=}\")\n",
        "\n",
        "      # print(f\"{SOURCE_SUBREDDIT=}\")\n",
        "      # print(f\"{TARGET_SUBREDDIT=}\")\n",
        "      # print(f\"{POST_PROPERTIES[8-1]=}\")\n",
        "      # print(f\"{type(subreddit_stats[SOURCE_SUBREDDIT])=}\")\n",
        "      # print(f\"{type(subreddit_stats[SOURCE_SUBREDDIT])=}\")\n",
        "      if(subreddit_stats[SOURCE_SUBREDDIT] == {}):\n",
        "        subreddit_stats[SOURCE_SUBREDDIT] = {\n",
        "            \"avg_words\" : [nwords],\n",
        "            \"avg_swear_sentiment\" : [swear_sentiment],\n",
        "            \"avg_positivity\" : [positivity],\n",
        "            \"avg_negativity\" : [negativity],\n",
        "            \"avg_compound\" : [compound],\n",
        "            \"avg_word_length\" : [avg_word_length],\n",
        "            \"sent_posts\" : 1,\n",
        "            \"received_posts\" : 0\n",
        "        }\n",
        "      else: \n",
        "        subreddit_stats[SOURCE_SUBREDDIT][\"avg_words\"].append(nwords)\n",
        "        subreddit_stats[SOURCE_SUBREDDIT][\"avg_swear_sentiment\"].append(swear_sentiment)\n",
        "        subreddit_stats[SOURCE_SUBREDDIT][\"avg_positivity\"].append(positivity)\n",
        "        subreddit_stats[SOURCE_SUBREDDIT][\"avg_negativity\"].append(negativity)\n",
        "        subreddit_stats[SOURCE_SUBREDDIT][\"avg_compound\"].append(compound)\n",
        "        subreddit_stats[SOURCE_SUBREDDIT][\"avg_word_length\"].append(avg_word_length)\n",
        "        subreddit_stats[SOURCE_SUBREDDIT][\"sent_posts\"]+=1\n",
        "\n",
        "      if(subreddit_stats[TARGET_SUBREDDIT] == {}):\n",
        "        subreddit_stats[TARGET_SUBREDDIT] = {\n",
        "          \"avg_words\" : [0],\n",
        "          \"avg_swear_sentiment\" : [0],\n",
        "          \"avg_positivity\" : [0],\n",
        "          \"avg_negativity\" : [0],\n",
        "          \"avg_compound\" : [0],\n",
        "          \"avg_word_length\" : [0],\n",
        "          \"sent_posts\" : 0,\n",
        "          \"received_posts\" : 1\n",
        "      }\n",
        "      else:\n",
        "        subreddit_stats[TARGET_SUBREDDIT][\"received_posts\"]+=1\n",
        "\n",
        "    \n",
        "\n",
        "# node_stats = []\n",
        "# get node statistics\n",
        "gather_node_edge_statistics(df)\n",
        "edge_indices = torch.tensor(edge_indices)"
      ]
    },
    {
      "cell_type": "code",
      "execution_count": null,
      "metadata": {
        "colab": {
          "base_uri": "https://localhost:8080/"
        },
        "id": "FM9qx-txEoJ3",
        "outputId": "c245dcec-06e1-4599-896d-866c43df27c2"
      },
      "outputs": [
        {
          "output_type": "execute_result",
          "data": {
            "text/plain": [
              "tensor(4486)"
            ]
          },
          "metadata": {},
          "execution_count": 11
        }
      ],
      "source": [
        "edge_indices.max()"
      ]
    },
    {
      "cell_type": "code",
      "execution_count": null,
      "metadata": {
        "id": "yN4y0Tqy27gN"
      },
      "outputs": [],
      "source": [
        "import torch"
      ]
    },
    {
      "cell_type": "code",
      "execution_count": null,
      "metadata": {
        "id": "21lqXSbyp06z"
      },
      "outputs": [],
      "source": [
        "#@title Default title text\n",
        "import numpy as np\n",
        "for i in subreddit_stats.keys():\n",
        "  if(subreddit_stats[i] != {}):\n",
        "    # print(f\"{subreddit_stats[i]=}\")\n",
        "    # print(f\"{type(subreddit_stats[i]['avg_words'])=}\")\n",
        "    # print(f\"{subreddit_stats[i]['avg_words']=}\")\n",
        "    subreddit_stats[i][\"avg_words\"] = np.average(subreddit_stats[i][\"avg_words\"])\n",
        "    subreddit_stats[i][\"avg_swear_sentiment\"] = np.average(subreddit_stats[i][\"avg_swear_sentiment\"])\n",
        "    subreddit_stats[i][\"avg_positivity\"] = np.average(subreddit_stats[i][\"avg_positivity\"])\n",
        "    subreddit_stats[i][\"avg_negativity\"] = np.average(subreddit_stats[i][\"avg_negativity\"])\n",
        "    subreddit_stats[i][\"avg_compound\"] = np.average(subreddit_stats[i][\"avg_compound\"])\n",
        "    subreddit_stats[i][\"avg_word_length\"] = np.average(subreddit_stats[i][\"avg_word_length\"])\n",
        "\n",
        "\n",
        "with open(\"/content/drive/MyDrive/ICPC/subreddit_stats.pkl\", \"wb\")  as f:\n",
        "  pickle.dump(subreddit_stats, f)"
      ]
    },
    {
      "cell_type": "code",
      "execution_count": null,
      "metadata": {
        "id": "j4hFeoeS0keU"
      },
      "outputs": [],
      "source": [
        "#@title Default title text\n",
        "node_stats_list = []\n",
        "def stats_dict_2_tensor(subreddit_stats):\n",
        "  _node_stats_list = []\n",
        "  for i in subreddit_stats.keys():\n",
        "    _node_stat_list = []\n",
        "    # print(f\"{subreddit_stats[i]=}\")\n",
        "    if(subreddit_stats[i] != {}):\n",
        "      _node_stat_list.append(subreddit_stats[i]['avg_words'])\n",
        "      _node_stat_list.append(subreddit_stats[i]['avg_swear_sentiment'])\n",
        "      _node_stat_list.append(subreddit_stats[i]['avg_positivity'])\n",
        "      _node_stat_list.append(subreddit_stats[i]['avg_negativity'])\n",
        "      _node_stat_list.append(subreddit_stats[i]['avg_compound'])\n",
        "      _node_stat_list.append(subreddit_stats[i]['avg_word_length'])\n",
        "      _node_stat_list.append(subreddit_stats[i]['sent_posts'])\n",
        "      _node_stat_list.append(subreddit_stats[i]['received_posts'])\n",
        "      _node_stats_list.append(_node_stat_list)\n",
        "  return torch.tensor(_node_stats_list)\n",
        "node_stats_list = stats_dict_2_tensor(subreddit_stats)"
      ]
    },
    {
      "cell_type": "code",
      "source": [
        "edge_indices, node_stats_list.shape"
      ],
      "metadata": {
        "colab": {
          "base_uri": "https://localhost:8080/"
        },
        "id": "KqA9gG8_fclD",
        "outputId": "c4760518-9364-4eac-cff9-b75d813eead0"
      },
      "execution_count": null,
      "outputs": [
        {
          "output_type": "execute_result",
          "data": {
            "text/plain": [
              "(tensor([[2228,  700],\n",
              "         [ 578, 2238],\n",
              "         [ 946, 3101],\n",
              "         ...,\n",
              "         [ 533, 2239],\n",
              "         [ 478, 1473],\n",
              "         [ 367, 2900]]),\n",
              " torch.Size([3501, 8]))"
            ]
          },
          "metadata": {},
          "execution_count": 15
        }
      ]
    },
    {
      "cell_type": "code",
      "execution_count": null,
      "metadata": {
        "id": "uKrBPEwEqzLl"
      },
      "outputs": [],
      "source": [
        "# get rid of entries in the edge_index that reference nodes beyond the nodes in stats_list\n",
        "pruned_edge_indices = [ x for x in edge_indices if x[0] < node_stats_list.shape[0] and x[1] < node_stats_list.shape[0]  ]\n",
        "pruned_edge_indices = torch.stack(pruned_edge_indices)\n",
        "pruned_edge_indices.shape, pruned_edge_indices.max()\n",
        "edge_indices = pruned_edge_indices"
      ]
    },
    {
      "cell_type": "code",
      "execution_count": null,
      "metadata": {
        "id": "hlC2JZmM3eYU"
      },
      "outputs": [],
      "source": [
        "# 2,3,4,6,7\n",
        "# correspond to positivity, negativity, compound (negativity and positivity combined), sent, and received respectively\n",
        "most_negative_node = np.argmin(node_stats_list[:, 4])\n",
        "most_positive_node = np.argmax(node_stats_list[:, 4])\n",
        "most_active_node = np.argmax(node_stats_list[:, 6])\n",
        "most_sweary_node = np.argmax(node_stats_list[: , 1])\n",
        "\n",
        "# subreddit_stats[most_negative_node],subreddit_stats[most_positive_node], subreddit_stats[most_active_node], subreddit_stats[most_sweary_node]\n"
      ]
    },
    {
      "cell_type": "code",
      "execution_count": null,
      "metadata": {
        "colab": {
          "base_uri": "https://localhost:8080/"
        },
        "id": "Iej4Ao-qDqzF",
        "outputId": "9bf5a8c0-2de0-442e-94da-fa13858e29ff"
      },
      "outputs": [
        {
          "output_type": "stream",
          "name": "stderr",
          "text": [
            "Downloading https://github.com/kimiyoung/planetoid/raw/master/data/ind.cora.x\n",
            "Downloading https://github.com/kimiyoung/planetoid/raw/master/data/ind.cora.tx\n",
            "Downloading https://github.com/kimiyoung/planetoid/raw/master/data/ind.cora.allx\n",
            "Downloading https://github.com/kimiyoung/planetoid/raw/master/data/ind.cora.y\n",
            "Downloading https://github.com/kimiyoung/planetoid/raw/master/data/ind.cora.ty\n",
            "Downloading https://github.com/kimiyoung/planetoid/raw/master/data/ind.cora.ally\n",
            "Downloading https://github.com/kimiyoung/planetoid/raw/master/data/ind.cora.graph\n",
            "Downloading https://github.com/kimiyoung/planetoid/raw/master/data/ind.cora.test.index\n",
            "Processing...\n",
            "Done!\n"
          ]
        },
        {
          "output_type": "execute_result",
          "data": {
            "text/plain": [
              "Data(x=[2708, 1433], edge_index=[2, 10556], y=[2708], train_mask=[2708], val_mask=[2708], test_mask=[2708])"
            ]
          },
          "metadata": {},
          "execution_count": 18
        }
      ],
      "source": [
        "from torch_geometric.datasets import Planetoid\n",
        "# Load data\n",
        "dataset = Planetoid(root='./data/cora', name='cora')\n",
        "data = dataset[0]\n",
        "data"
      ]
    },
    {
      "cell_type": "code",
      "execution_count": null,
      "metadata": {
        "colab": {
          "base_uri": "https://localhost:8080/"
        },
        "id": "yWL1nZ1TXHMb",
        "outputId": "d16ea63f-069a-432b-e942-f57a7b5f5578"
      },
      "outputs": [
        {
          "output_type": "execute_result",
          "data": {
            "text/plain": [
              "(1433, 7)"
            ]
          },
          "metadata": {},
          "execution_count": 19
        }
      ],
      "source": [
        "data.num_node_features, dataset.num_classes"
      ]
    },
    {
      "cell_type": "code",
      "execution_count": null,
      "metadata": {
        "colab": {
          "base_uri": "https://localhost:8080/"
        },
        "id": "h3EpUCLNT8e7",
        "outputId": "792a4bab-9741-466f-c9d5-367ad74ff373"
      },
      "outputs": [
        {
          "output_type": "execute_result",
          "data": {
            "text/plain": [
              "[True,\n",
              " True,\n",
              " True,\n",
              " True,\n",
              " False,\n",
              " True,\n",
              " True,\n",
              " True,\n",
              " True,\n",
              " False,\n",
              " True,\n",
              " True,\n",
              " True,\n",
              " True,\n",
              " True]"
            ]
          },
          "metadata": {},
          "execution_count": 20
        }
      ],
      "source": [
        "\n",
        "import random \n",
        "\n",
        "def gen_train_mask( num_nodes : int, n : int) -> torch.tensor:\n",
        "  rand_indices = [True] * num_nodes\n",
        "  for i in range(n):\n",
        "    num = random.randint(0, num_nodes - 1)\n",
        "    rand_indices[num] = False\n",
        "  return rand_indices\n",
        "  \n",
        "gen_train_mask(15, 2)"
      ]
    },
    {
      "cell_type": "code",
      "execution_count": null,
      "metadata": {
        "colab": {
          "base_uri": "https://localhost:8080/"
        },
        "id": "2WTf271KTlBG",
        "outputId": "d6a1bbc6-5043-40f7-b13c-2f719044b88b"
      },
      "outputs": [
        {
          "output_type": "stream",
          "name": "stdout",
          "text": [
            "type(x)=<class 'torch.Tensor'>\n",
            "edge_indices.shape=torch.Size([6591, 2])\n"
          ]
        },
        {
          "output_type": "stream",
          "name": "stderr",
          "text": [
            "<ipython-input-21-ab3782da0f76>:6: UserWarning: To copy construct from a tensor, it is recommended to use sourceTensor.clone().detach() or sourceTensor.clone().detach().requires_grad_(True), rather than torch.tensor(sourceTensor).\n",
            "  x = torch.tensor(node_stats_list)\n"
          ]
        }
      ],
      "source": [
        "from torch_geometric.data import Data\n",
        "\n",
        "train_mask = gen_train_mask(node_stats_list.shape[0], round(0.3 * node_stats_list.shape[0]))\n",
        "# train_mask = gen_train_mask(edge_indices.shape[0], round(0.60 * edge_indices.shape[0]))\n",
        "train_mask = torch.tensor(train_mask)\n",
        "x = torch.tensor(node_stats_list)\n",
        "x = x.float()\n",
        "edge_indices = edge_indices.int()\n",
        "print(f\"{type(x)=}\")\n",
        "print(f\"{edge_indices.shape=}\")\n",
        "dataset = Data(x =x , edge_index = edge_indices.T, train_mask =train_mask  )\n"
      ]
    },
    {
      "cell_type": "code",
      "execution_count": null,
      "metadata": {
        "colab": {
          "base_uri": "https://localhost:8080/"
        },
        "id": "oglKwxrXS0ZF",
        "outputId": "9a42565a-febc-4afc-872e-1d42ec189f4d"
      },
      "outputs": [
        {
          "output_type": "execute_result",
          "data": {
            "text/plain": [
              "(torch.Size([3501, 8]), torch.Size([2, 6591]))"
            ]
          },
          "metadata": {},
          "execution_count": 22
        }
      ],
      "source": [
        "dataset.x.shape, dataset.edge_index.shape"
      ]
    },
    {
      "cell_type": "code",
      "execution_count": null,
      "metadata": {
        "colab": {
          "base_uri": "https://localhost:8080/"
        },
        "id": "oDw6N8fW4Mx4",
        "outputId": "d98e84e0-e51a-452d-9280-0bfc83100ed7"
      },
      "outputs": [
        {
          "output_type": "execute_result",
          "data": {
            "text/plain": [
              "torch.Size([500, 8])"
            ]
          },
          "metadata": {},
          "execution_count": 23
        }
      ],
      "source": [
        "dataset.x[dataset.train_mask][0],  dataset.x[~dataset.train_mask][0]\n",
        "\n",
        "num_nodes = dataset.x.shape[0]\n",
        "train_mask = torch.zeros(num_nodes, dtype=torch.bool)\n",
        "train_mask[:500] = 1\n",
        "\n",
        "# Use the train_mask to get the subset of nodes and edges\n",
        "sub_data = dataset.x[train_mask]\n",
        "sub_data.shape"
      ]
    },
    {
      "cell_type": "code",
      "execution_count": null,
      "metadata": {
        "colab": {
          "base_uri": "https://localhost:8080/"
        },
        "id": "ZPrOltFMoLPg",
        "outputId": "ec478d43-b4fc-43d1-8757-a53249edfc4c"
      },
      "outputs": [
        {
          "output_type": "execute_result",
          "data": {
            "text/plain": [
              "tensor(3498, dtype=torch.int32)"
            ]
          },
          "metadata": {},
          "execution_count": 24
        }
      ],
      "source": [
        "dataset.edge_index[:, :].max()"
      ]
    },
    {
      "cell_type": "code",
      "execution_count": null,
      "metadata": {
        "colab": {
          "base_uri": "https://localhost:8080/"
        },
        "id": "72TAbvZYnZu9",
        "outputId": "f2733016-5467-4b43-d5b6-fe5a6fcbd94a"
      },
      "outputs": [
        {
          "output_type": "execute_result",
          "data": {
            "text/plain": [
              "(torch.Size([2, 6591]), torch.Size([3501, 8]), 4488)"
            ]
          },
          "metadata": {},
          "execution_count": 25
        }
      ],
      "source": [
        "# NEED TO MAKE IT SO THAT MAX ENTRY IN DATASET.X IS < len(uniq_sreddits)!!!!!\n",
        "dataset.edge_index.shape, dataset.x.shape, len(uniq_sreddits)"
      ]
    },
    {
      "cell_type": "code",
      "execution_count": null,
      "metadata": {
        "colab": {
          "base_uri": "https://localhost:8080/"
        },
        "id": "rSfYIksH_aYV",
        "outputId": "7627b7a1-8ada-422e-9814-065dde2bafd4"
      },
      "outputs": [
        {
          "output_type": "execute_result",
          "data": {
            "text/plain": [
              "8"
            ]
          },
          "metadata": {},
          "execution_count": 26
        }
      ],
      "source": [
        "dataset.num_features"
      ]
    },
    {
      "cell_type": "code",
      "execution_count": null,
      "metadata": {
        "id": "MBcQA0U46tbC"
      },
      "outputs": [],
      "source": [
        "num_train_nodes = round(dataset.edge_index.shape[1] * 0.8)\n",
        "train_mask = torch.zeros(dataset.edge_index.shape[1], dtype=torch.bool)\n",
        "train_mask[:num_train_nodes] = True\n",
        "dataset = Data(x =x , edge_index = edge_indices.T, train_mask =train_mask  )"
      ]
    },
    {
      "cell_type": "code",
      "source": [
        "from torch_geometric.utils import negative_sampling"
      ],
      "metadata": {
        "id": "8M_SUSnUjlHq"
      },
      "execution_count": null,
      "outputs": []
    },
    {
      "cell_type": "code",
      "source": [
        "import torch\n",
        "import torch.nn.functional as F\n",
        "from torch_geometric.nn import GCNConv\n"
      ],
      "metadata": {
        "id": "ko_vZlzxmnal"
      },
      "execution_count": null,
      "outputs": []
    },
    {
      "cell_type": "code",
      "source": [
        "node_stats_list.shape, edge_indices.shape, edge_indices"
      ],
      "metadata": {
        "colab": {
          "base_uri": "https://localhost:8080/"
        },
        "id": "Kz44lEMUndQD",
        "outputId": "ecd64250-3980-4c9f-ae87-a0ba00792a24"
      },
      "execution_count": null,
      "outputs": [
        {
          "output_type": "execute_result",
          "data": {
            "text/plain": [
              "(torch.Size([3501, 8]),\n",
              " torch.Size([6591, 2]),\n",
              " tensor([[2228,  700],\n",
              "         [ 578, 2238],\n",
              "         [ 946, 3101],\n",
              "         ...,\n",
              "         [ 533, 2239],\n",
              "         [ 478, 1473],\n",
              "         [ 367, 2900]], dtype=torch.int32))"
            ]
          },
          "metadata": {},
          "execution_count": 30
        }
      ]
    },
    {
      "cell_type": "code",
      "source": [
        "# Set up the training and testing data\n",
        "edge_index = edge_indices.T\n",
        "total_indices = edge_indices.shape[0]\n",
        "total_indices\n",
        "\n",
        "alpha = 0.8\n",
        "train_size = round((alpha) * total_indices)\n",
        "test_size =  round( (1 - alpha) * total_indices )"
      ],
      "metadata": {
        "id": "MtUaJwLOoob5"
      },
      "execution_count": null,
      "outputs": []
    },
    {
      "cell_type": "code",
      "source": [
        "total_indices, train_size, test_size, edge_index.shape"
      ],
      "metadata": {
        "id": "NFT02nbqrg0t",
        "colab": {
          "base_uri": "https://localhost:8080/"
        },
        "outputId": "c5eaf5cd-91fc-4d89-a9a7-9bed670b6cd4"
      },
      "execution_count": null,
      "outputs": [
        {
          "output_type": "execute_result",
          "data": {
            "text/plain": [
              "(6591, 5273, 1318, torch.Size([2, 6591]))"
            ]
          },
          "metadata": {},
          "execution_count": 32
        }
      ]
    },
    {
      "cell_type": "code",
      "source": [
        "\n",
        "\n",
        "\n",
        "# subsample the training and test based off the positive edge_indices instead of the negative edge indices\n",
        "\n",
        "neg_edge_index = negative_sampling(\n",
        "        edge_index=edge_index,\n",
        "        num_nodes=node_stats_list.shape[0],\n",
        "        num_neg_samples=edge_index.shape[1]\n",
        "    )\n",
        "\n",
        "\n",
        "train_pos_edge_index = edge_index[:, :train_size] \n",
        "train_neg_edge_index = neg_edge_index[:, :train_size]\n",
        "\n",
        "\n",
        "test_pos_edge_index = edge_index[:, train_size:]\n",
        "test_neg_edge_index = neg_edge_index[:, train_size:]\n",
        "\n"
      ],
      "metadata": {
        "id": "q4j7w-NRmxp6"
      },
      "execution_count": null,
      "outputs": []
    },
    {
      "cell_type": "code",
      "source": [
        "train_neg_edge_index.shape, train_pos_edge_index.shape, test_pos_edge_index.shape, test_neg_edge_index.shape"
      ],
      "metadata": {
        "id": "bR7Nn0fGrR95",
        "colab": {
          "base_uri": "https://localhost:8080/"
        },
        "outputId": "1c033c19-8269-4a64-c057-e3be8f29983d"
      },
      "execution_count": null,
      "outputs": [
        {
          "output_type": "execute_result",
          "data": {
            "text/plain": [
              "(torch.Size([2, 5273]),\n",
              " torch.Size([2, 5273]),\n",
              " torch.Size([2, 1318]),\n",
              " torch.Size([2, 1318]))"
            ]
          },
          "metadata": {},
          "execution_count": 35
        }
      ]
    },
    {
      "cell_type": "code",
      "source": [
        "train_pos_edge_index,train_neg_edge_index "
      ],
      "metadata": {
        "id": "93z3ceVmMUJX",
        "colab": {
          "base_uri": "https://localhost:8080/"
        },
        "outputId": "7db4e3ac-a44a-4e9b-e19c-a8477c64b21b"
      },
      "execution_count": null,
      "outputs": [
        {
          "output_type": "execute_result",
          "data": {
            "text/plain": [
              "(tensor([[2228,  578,  946,  ...,  955,  284, 1574],\n",
              "         [ 700, 2238, 3101,  ...,  137, 1029,  924]], dtype=torch.int32),\n",
              " tensor([[1881,  391, 2420,  ...,   73, 2651,  205],\n",
              "         [ 679, 1464, 3291,  ..., 2887,  527, 3158]]))"
            ]
          },
          "metadata": {},
          "execution_count": 36
        }
      ]
    },
    {
      "cell_type": "code",
      "source": [
        "import torch.nn as nn"
      ],
      "metadata": {
        "id": "z4IsJIXdnNM7"
      },
      "execution_count": null,
      "outputs": []
    },
    {
      "cell_type": "code",
      "source": [
        "device = torch.device('cuda' if torch.cuda.is_available() else 'cpu')\n",
        "node_stats_list = torch.tensor(node_stats_list).float().to(device)"
      ],
      "metadata": {
        "colab": {
          "base_uri": "https://localhost:8080/"
        },
        "id": "pMJENdVZDu44",
        "outputId": "a4e5086e-50b7-4035-b48a-67cae41530ae"
      },
      "execution_count": null,
      "outputs": [
        {
          "output_type": "stream",
          "name": "stderr",
          "text": [
            "<ipython-input-38-8cb65b2050cc>:2: UserWarning: To copy construct from a tensor, it is recommended to use sourceTensor.clone().detach() or sourceTensor.clone().detach().requires_grad_(True), rather than torch.tensor(sourceTensor).\n",
            "  node_stats_list = torch.tensor(node_stats_list).float().to(device)\n"
          ]
        }
      ]
    },
    {
      "cell_type": "code",
      "source": [
        "node_stats_list = torch.nn.functional.normalize(node_stats_list, p=2.0, dim = 1)"
      ],
      "metadata": {
        "id": "VWKZQw62aLaa"
      },
      "execution_count": null,
      "outputs": []
    },
    {
      "cell_type": "code",
      "source": [
        "torch.norm(node_stats_list[0]), node_stats_list[0]"
      ],
      "metadata": {
        "colab": {
          "base_uri": "https://localhost:8080/"
        },
        "id": "hdkVaYufaR9e",
        "outputId": "9cbfc29f-de5e-4f58-edf9-48c992841092"
      },
      "execution_count": null,
      "outputs": [
        {
          "output_type": "execute_result",
          "data": {
            "text/plain": [
              "(tensor(1.0000),\n",
              " tensor([9.9930e-01, 4.5336e-06, 1.3124e-04, 1.6984e-04, 4.0229e-05, 9.0565e-03,\n",
              "         5.1466e-03, 3.6026e-02]))"
            ]
          },
          "metadata": {},
          "execution_count": 40
        }
      ]
    },
    {
      "cell_type": "code",
      "source": [
        "import tqdm\n",
        "from tqdm import tqdm"
      ],
      "metadata": {
        "id": "y-5G8xCzJuoK"
      },
      "execution_count": null,
      "outputs": []
    },
    {
      "cell_type": "code",
      "source": [
        "import os.path as osp\n",
        "\n",
        "import torch\n",
        "from sklearn.metrics import roc_auc_score\n",
        "\n",
        "import torch_geometric.transforms as T\n",
        "from torch_geometric.datasets import Planetoid\n",
        "from torch_geometric.nn import GCNConv\n",
        "from torch_geometric.utils import negative_sampling\n",
        "import torch_geometric.datasets as datasets"
      ],
      "metadata": {
        "id": "g68UqPFUpAVV"
      },
      "execution_count": null,
      "outputs": []
    },
    {
      "cell_type": "code",
      "source": [
        "# dataset = Planetoid(root=data_dir, name='Cora')\n",
        "# data = dataset[0]"
      ],
      "metadata": {
        "id": "2atTLX5yqssH"
      },
      "execution_count": null,
      "outputs": []
    },
    {
      "cell_type": "code",
      "source": [
        "device = torch.device('cuda' if torch.cuda.is_available() else 'cpu')\n",
        "transform = T.Compose([\n",
        "    T.NormalizeFeatures(),\n",
        "    T.ToDevice(device),\n",
        "    T.RandomLinkSplit(num_val=0.05, num_test=0.1, is_undirected=True,\n",
        "                      add_negative_train_samples=False),\n",
        "])\n",
        "dataset = Planetoid(root=\"./data/\", name='Cora', transform=transform)\n",
        "# After applying the `RandomLinkSplit` transform, the data is transformed from\n",
        "# a data object to a list of tuples (train_data, val_data, test_data), with\n",
        "# each element representing the corresponding split.\n",
        "train_data, val_data, test_data = dataset[0]"
      ],
      "metadata": {
        "id": "KUEuV8Q7pOTu",
        "colab": {
          "base_uri": "https://localhost:8080/"
        },
        "outputId": "f763975a-ff9b-4d80-f788-bf9cfe3725d0"
      },
      "execution_count": null,
      "outputs": [
        {
          "output_type": "stream",
          "name": "stderr",
          "text": [
            "Downloading https://github.com/kimiyoung/planetoid/raw/master/data/ind.cora.x\n",
            "Downloading https://github.com/kimiyoung/planetoid/raw/master/data/ind.cora.tx\n",
            "Downloading https://github.com/kimiyoung/planetoid/raw/master/data/ind.cora.allx\n",
            "Downloading https://github.com/kimiyoung/planetoid/raw/master/data/ind.cora.y\n",
            "Downloading https://github.com/kimiyoung/planetoid/raw/master/data/ind.cora.ty\n",
            "Downloading https://github.com/kimiyoung/planetoid/raw/master/data/ind.cora.ally\n",
            "Downloading https://github.com/kimiyoung/planetoid/raw/master/data/ind.cora.graph\n",
            "Downloading https://github.com/kimiyoung/planetoid/raw/master/data/ind.cora.test.index\n",
            "Processing...\n",
            "Done!\n"
          ]
        }
      ]
    },
    {
      "cell_type": "code",
      "source": [
        "train_data\n",
        "train_pos_edge_index = edge_index[:, :train_size] \n",
        "train_neg_edge_index = neg_edge_index[:, :train_size]\n",
        "\n",
        "\n",
        "test_pos_edge_index = edge_index[:, train_size:]\n",
        "test_neg_edge_index = neg_edge_index[:, train_size:]\n",
        "\n",
        "# train_data = Data(x = node_stats_list, edge_index = train_pos_edge_index"
      ],
      "metadata": {
        "id": "gN1VD2DKqQS-"
      },
      "execution_count": null,
      "outputs": []
    },
    {
      "cell_type": "code",
      "source": [
        "class Net(torch.nn.Module):\n",
        "    def __init__(self, in_channels, hidden_channels, out_channels):\n",
        "        super().__init__()\n",
        "        self.conv1 = GCNConv(in_channels, hidden_channels)\n",
        "        self.conv2 = GCNConv(hidden_channels, out_channels)\n",
        "\n",
        "    def encode(self, x, edge_index):\n",
        "        x = self.conv1(x, edge_index).relu()\n",
        "        return self.conv2(x, edge_index)\n",
        "\n",
        "    def decode(self, z, edge_label_index):\n",
        "        return (z[edge_label_index[0]] * z[edge_label_index[1]]).sum(dim=-1)\n",
        "\n",
        "    def decode_all(self, z):\n",
        "        prob_adj = z @ z.t()\n",
        "        return (prob_adj > 0).nonzero(as_tuple=False).t()\n",
        "\n",
        "def train():\n",
        "  model.train()\n",
        "  optimizer.zero_grad()\n",
        "  z = model.encode(train_data.x, train_data.edge_index)\n",
        "\n",
        "  # We perform a new round of negative sampling for every training epoch:\n",
        "  neg_edge_index = negative_sampling(\n",
        "      edge_index=train_data.edge_index, num_nodes=train_data.num_nodes,\n",
        "      num_neg_samples=train_data.edge_label_index.size(1), method='sparse')\n",
        "\n",
        "  edge_label_index = torch.cat(\n",
        "      [train_data.edge_label_index, neg_edge_index],\n",
        "      dim=-1,\n",
        "  )\n",
        "  edge_label = torch.cat([\n",
        "      train_data.edge_label,\n",
        "      train_data.edge_label.new_zeros(neg_edge_index.size(1))\n",
        "  ], dim=0)\n",
        "\n",
        "  out = model.decode(z, edge_label_index).view(-1)\n",
        "  loss = criterion(out, edge_label)\n",
        "  loss.backward()\n",
        "  optimizer.step()\n",
        "  return loss\n",
        "\n",
        "\n",
        "@torch.no_grad()\n",
        "def test(data):\n",
        "    model.eval()\n",
        "    z = model.encode(data.x, data.edge_index)\n",
        "    out = model.decode(z, data.edge_label_index).view(-1).sigmoid()\n",
        "    return roc_auc_score(data.edge_label.cpu().numpy(), out.cpu().numpy())\n"
      ],
      "metadata": {
        "id": "5zwAGKjfr2FE"
      },
      "execution_count": null,
      "outputs": []
    },
    {
      "cell_type": "code",
      "source": [
        "epochs = 101"
      ],
      "metadata": {
        "id": "uEFFfyLQ1qa8"
      },
      "execution_count": null,
      "outputs": []
    },
    {
      "cell_type": "code",
      "source": [
        "model = Net(dataset.num_features, 128, 64).to(device)\n",
        "optimizer = torch.optim.Adam(params=model.parameters(), lr=0.01)\n",
        "criterion = torch.nn.BCEWithLogitsLoss()\n",
        "\n",
        "best_val_auc = final_test_auc = 0\n",
        "losses = []\n",
        "test_vals = []\n",
        "for epoch in range(1, epochs):\n",
        "    loss = train()\n",
        "    losses.append(loss)\n",
        "    val_auc = test(val_data)\n",
        "    test_vals.append(val_auc)\n",
        "    test_auc = test(test_data)\n",
        "    if val_auc > best_val_auc:\n",
        "        best_val_auc = val_auc\n",
        "        final_test_auc = test_auc\n",
        "    print(f'Epoch: {epoch:03d}, Loss: {loss:.4f}, Val: {val_auc:.4f}, '\n",
        "          f'Test: {test_auc:.4f}')\n",
        "\n",
        "print(f'Final Test: {final_test_auc:.4f}')\n",
        "\n",
        "z = model.encode(test_data.x, test_data.edge_index)\n",
        "final_edge_index = model.decode_all(z)\n",
        "\n"
      ],
      "metadata": {
        "colab": {
          "base_uri": "https://localhost:8080/"
        },
        "id": "NCRoBs5Er96o",
        "outputId": "d923e41e-1d02-4873-e6bb-251940084bc5"
      },
      "execution_count": null,
      "outputs": [
        {
          "output_type": "stream",
          "name": "stdout",
          "text": [
            "Epoch: 001, Loss: 0.6930, Val: 0.6552, Test: 0.6811\n",
            "Epoch: 002, Loss: 0.6812, Val: 0.6523, Test: 0.6795\n",
            "Epoch: 003, Loss: 0.7148, Val: 0.6562, Test: 0.6895\n",
            "Epoch: 004, Loss: 0.6771, Val: 0.6642, Test: 0.7124\n",
            "Epoch: 005, Loss: 0.6852, Val: 0.6866, Test: 0.7389\n",
            "Epoch: 006, Loss: 0.6893, Val: 0.7116, Test: 0.7625\n",
            "Epoch: 007, Loss: 0.6907, Val: 0.7030, Test: 0.7367\n",
            "Epoch: 008, Loss: 0.6908, Val: 0.6804, Test: 0.7018\n",
            "Epoch: 009, Loss: 0.6897, Val: 0.6698, Test: 0.6882\n",
            "Epoch: 010, Loss: 0.6872, Val: 0.6653, Test: 0.6845\n",
            "Epoch: 011, Loss: 0.6830, Val: 0.6617, Test: 0.6845\n",
            "Epoch: 012, Loss: 0.6782, Val: 0.6603, Test: 0.6867\n",
            "Epoch: 013, Loss: 0.6791, Val: 0.6606, Test: 0.6899\n",
            "Epoch: 014, Loss: 0.6771, Val: 0.6596, Test: 0.6929\n",
            "Epoch: 015, Loss: 0.6716, Val: 0.6613, Test: 0.6949\n",
            "Epoch: 016, Loss: 0.6670, Val: 0.6634, Test: 0.6943\n",
            "Epoch: 017, Loss: 0.6634, Val: 0.6620, Test: 0.6916\n",
            "Epoch: 018, Loss: 0.6575, Val: 0.6591, Test: 0.6872\n",
            "Epoch: 019, Loss: 0.6495, Val: 0.6576, Test: 0.6850\n",
            "Epoch: 020, Loss: 0.6457, Val: 0.6663, Test: 0.6941\n",
            "Epoch: 021, Loss: 0.6407, Val: 0.7000, Test: 0.7246\n",
            "Epoch: 022, Loss: 0.6284, Val: 0.7441, Test: 0.7546\n",
            "Epoch: 023, Loss: 0.6186, Val: 0.7577, Test: 0.7606\n",
            "Epoch: 024, Loss: 0.6077, Val: 0.7569, Test: 0.7609\n",
            "Epoch: 025, Loss: 0.5915, Val: 0.7497, Test: 0.7591\n",
            "Epoch: 026, Loss: 0.5835, Val: 0.7509, Test: 0.7589\n",
            "Epoch: 027, Loss: 0.5743, Val: 0.7461, Test: 0.7509\n",
            "Epoch: 028, Loss: 0.5722, Val: 0.7440, Test: 0.7523\n",
            "Epoch: 029, Loss: 0.5708, Val: 0.7435, Test: 0.7555\n",
            "Epoch: 030, Loss: 0.5662, Val: 0.7449, Test: 0.7554\n",
            "Epoch: 031, Loss: 0.5535, Val: 0.7452, Test: 0.7533\n",
            "Epoch: 032, Loss: 0.5571, Val: 0.7504, Test: 0.7597\n",
            "Epoch: 033, Loss: 0.5581, Val: 0.7606, Test: 0.7741\n",
            "Epoch: 034, Loss: 0.5477, Val: 0.7690, Test: 0.7840\n",
            "Epoch: 035, Loss: 0.5526, Val: 0.7804, Test: 0.7942\n",
            "Epoch: 036, Loss: 0.5445, Val: 0.7896, Test: 0.8041\n",
            "Epoch: 037, Loss: 0.5397, Val: 0.7967, Test: 0.8129\n",
            "Epoch: 038, Loss: 0.5266, Val: 0.8031, Test: 0.8209\n",
            "Epoch: 039, Loss: 0.5275, Val: 0.8072, Test: 0.8278\n",
            "Epoch: 040, Loss: 0.5253, Val: 0.8109, Test: 0.8350\n",
            "Epoch: 041, Loss: 0.5150, Val: 0.8163, Test: 0.8428\n",
            "Epoch: 042, Loss: 0.5107, Val: 0.8254, Test: 0.8522\n",
            "Epoch: 043, Loss: 0.5059, Val: 0.8310, Test: 0.8584\n",
            "Epoch: 044, Loss: 0.4994, Val: 0.8327, Test: 0.8610\n",
            "Epoch: 045, Loss: 0.4972, Val: 0.8333, Test: 0.8619\n",
            "Epoch: 046, Loss: 0.4969, Val: 0.8384, Test: 0.8651\n",
            "Epoch: 047, Loss: 0.4914, Val: 0.8448, Test: 0.8680\n",
            "Epoch: 048, Loss: 0.4933, Val: 0.8509, Test: 0.8714\n",
            "Epoch: 049, Loss: 0.4952, Val: 0.8543, Test: 0.8749\n",
            "Epoch: 050, Loss: 0.4806, Val: 0.8577, Test: 0.8765\n",
            "Epoch: 051, Loss: 0.4833, Val: 0.8615, Test: 0.8778\n",
            "Epoch: 052, Loss: 0.4822, Val: 0.8662, Test: 0.8774\n",
            "Epoch: 053, Loss: 0.4792, Val: 0.8688, Test: 0.8767\n",
            "Epoch: 054, Loss: 0.4753, Val: 0.8714, Test: 0.8767\n",
            "Epoch: 055, Loss: 0.4793, Val: 0.8709, Test: 0.8772\n",
            "Epoch: 056, Loss: 0.4704, Val: 0.8708, Test: 0.8776\n",
            "Epoch: 057, Loss: 0.4730, Val: 0.8713, Test: 0.8788\n",
            "Epoch: 058, Loss: 0.4627, Val: 0.8747, Test: 0.8806\n",
            "Epoch: 059, Loss: 0.4712, Val: 0.8774, Test: 0.8831\n",
            "Epoch: 060, Loss: 0.4782, Val: 0.8797, Test: 0.8858\n",
            "Epoch: 061, Loss: 0.4740, Val: 0.8804, Test: 0.8875\n",
            "Epoch: 062, Loss: 0.4631, Val: 0.8822, Test: 0.8893\n",
            "Epoch: 063, Loss: 0.4621, Val: 0.8826, Test: 0.8902\n",
            "Epoch: 064, Loss: 0.4609, Val: 0.8843, Test: 0.8910\n",
            "Epoch: 065, Loss: 0.4623, Val: 0.8851, Test: 0.8910\n",
            "Epoch: 066, Loss: 0.4652, Val: 0.8842, Test: 0.8910\n",
            "Epoch: 067, Loss: 0.4714, Val: 0.8848, Test: 0.8917\n",
            "Epoch: 068, Loss: 0.4595, Val: 0.8881, Test: 0.8927\n",
            "Epoch: 069, Loss: 0.4638, Val: 0.8912, Test: 0.8932\n",
            "Epoch: 070, Loss: 0.4657, Val: 0.8920, Test: 0.8945\n",
            "Epoch: 071, Loss: 0.4558, Val: 0.8905, Test: 0.8959\n",
            "Epoch: 072, Loss: 0.4589, Val: 0.8898, Test: 0.8966\n",
            "Epoch: 073, Loss: 0.4560, Val: 0.8903, Test: 0.8981\n",
            "Epoch: 074, Loss: 0.4546, Val: 0.8932, Test: 0.8994\n",
            "Epoch: 075, Loss: 0.4555, Val: 0.8946, Test: 0.9012\n",
            "Epoch: 076, Loss: 0.4599, Val: 0.8947, Test: 0.9023\n",
            "Epoch: 077, Loss: 0.4507, Val: 0.8940, Test: 0.9044\n",
            "Epoch: 078, Loss: 0.4622, Val: 0.8920, Test: 0.9056\n",
            "Epoch: 079, Loss: 0.4490, Val: 0.8909, Test: 0.9069\n",
            "Epoch: 080, Loss: 0.4540, Val: 0.8923, Test: 0.9079\n",
            "Epoch: 081, Loss: 0.4504, Val: 0.8942, Test: 0.9082\n",
            "Epoch: 082, Loss: 0.4551, Val: 0.8943, Test: 0.9088\n",
            "Epoch: 083, Loss: 0.4428, Val: 0.8931, Test: 0.9092\n",
            "Epoch: 084, Loss: 0.4467, Val: 0.8922, Test: 0.9095\n",
            "Epoch: 085, Loss: 0.4589, Val: 0.8933, Test: 0.9093\n",
            "Epoch: 086, Loss: 0.4506, Val: 0.8959, Test: 0.9094\n",
            "Epoch: 087, Loss: 0.4513, Val: 0.8970, Test: 0.9094\n",
            "Epoch: 088, Loss: 0.4558, Val: 0.8944, Test: 0.9093\n",
            "Epoch: 089, Loss: 0.4505, Val: 0.8935, Test: 0.9090\n",
            "Epoch: 090, Loss: 0.4505, Val: 0.8958, Test: 0.9089\n",
            "Epoch: 091, Loss: 0.4514, Val: 0.8983, Test: 0.9086\n",
            "Epoch: 092, Loss: 0.4549, Val: 0.9006, Test: 0.9078\n",
            "Epoch: 093, Loss: 0.4489, Val: 0.9004, Test: 0.9076\n",
            "Epoch: 094, Loss: 0.4485, Val: 0.8992, Test: 0.9079\n",
            "Epoch: 095, Loss: 0.4392, Val: 0.9007, Test: 0.9093\n",
            "Epoch: 096, Loss: 0.4467, Val: 0.9026, Test: 0.9100\n",
            "Epoch: 097, Loss: 0.4413, Val: 0.9043, Test: 0.9104\n",
            "Epoch: 098, Loss: 0.4518, Val: 0.9039, Test: 0.9109\n",
            "Epoch: 099, Loss: 0.4460, Val: 0.9028, Test: 0.9112\n",
            "Epoch: 100, Loss: 0.4442, Val: 0.9034, Test: 0.9127\n",
            "Final Test: 0.9104\n"
          ]
        }
      ]
    },
    {
      "cell_type": "code",
      "source": [
        "import matplotlib.pyplot as plt\n",
        "\n",
        "with torch.no_grad():\n",
        "  epochs_plot = np.arange(1, epochs, 1)\n",
        "  plt.plot(epochs_plot.tolist(), losses, label=\"Training Loss\")\n",
        "  plt.plot(epochs_plot.tolist(), test_vals, label=\"Testing Accuracy\")\n",
        "  plt.xlabel(\"Epoch\")\n",
        "  plt.ylabel(\"Loss\")\n",
        "  plt.legend()\n",
        "  plt.show()"
      ],
      "metadata": {
        "colab": {
          "base_uri": "https://localhost:8080/",
          "height": 449
        },
        "id": "iL6_Vpxo1a4s",
        "outputId": "9ec78679-5f09-4d1f-f6f8-4337520bfcde"
      },
      "execution_count": null,
      "outputs": [
        {
          "output_type": "display_data",
          "data": {
            "text/plain": [
              "<Figure size 640x480 with 1 Axes>"
            ],
            "image/png": "[encoded data removed]"
          },
          "metadata": {}
        }
      ]
    },
    {
      "cell_type": "code",
      "source": [
        "model_parameters = filter(lambda p: p.requires_grad, model.parameters())\n",
        "params = sum([np.prod(p.size()) for p in model_parameters])\n",
        "params"
      ],
      "metadata": {
        "colab": {
          "base_uri": "https://localhost:8080/"
        },
        "id": "im2WbvUn3SJH",
        "outputId": "504e541b-77b1-4dda-b615-41b92201b50d"
      },
      "execution_count": null,
      "outputs": [
        {
          "output_type": "execute_result",
          "data": {
            "text/plain": [
              "191808"
            ]
          },
          "metadata": {},
          "execution_count": 74
        }
      ]
    },
    {
      "cell_type": "code",
      "source": [
        "# train_graph = torch.load('train.pt')\n",
        "# val_graph = torch.load('val.pt')\n",
        "\n",
        "\n",
        "optim_wd = 0.01\n",
        "epochs = 50\n",
        "hidden_dim = 200\n",
        "dropout = 0.1\n",
        "num_layers = 2\n",
        "lr = 0.1\n",
        "node_emb_dim = 1\n",
        "batch_size = 10\n",
        "\n",
        "\n",
        "# train_graph = train_graph.to(device)\n",
        "# val_graph = val_graph.to(device)\n",
        "\n",
        "# model = GNNStack(node_emb_dim, hidden_dim, hidden_dim, num_layers, dropout, emb=True).to(device) # the graph neural network that takes all the node embeddings as inputs to message pass and agregate\n",
        "link_predictor = LinkPredictor(node_stats_list.shape[1], hidden_dim, 1, num_layers + 1, dropout).to(device)\n",
        "# pos_pred = link_predictor(node_emb[pos_edge[0]], node_emb[pos_edge[1]])  # (B, )\n",
        "pred = link_predictor(node_stats_list[0], node_stats_list[100])\n",
        "\n",
        "optimizer = torch.optim.Adam(\n",
        "    link_predictor.parameters(),\n",
        "    lr=lr, weight_decay=optim_wd\n",
        ")\n",
        "\n",
        "train_losses = []\n",
        "\n",
        "for epoch in tqdm(range(epochs)):\n",
        "  train_loss = train(\n",
        "\tlink_predictor, \n",
        "\tbatch_size, \n",
        "\toptimizer\n",
        "  )\n",
        "  print(f\"{train_loss=}\")\n",
        "  train_losses.append(train_loss)\n",
        "\n",
        "train_loss \n",
        "\n",
        "\n"
      ],
      "metadata": {
        "colab": {
          "base_uri": "https://localhost:8080/"
        },
        "id": "jriFQf3mDRRU",
        "outputId": "e1858615-ca98-4204-e7d3-6c4e236fd884"
      },
      "execution_count": null,
      "outputs": [
        {
          "output_type": "stream",
          "name": "stderr",
          "text": [
            "<ipython-input-131-9961cd76c00b>:16: UserWarning: nn.init.xavier_uniform is now deprecated in favor of nn.init.xavier_uniform_.\n",
            "  torch.nn.init.xavier_uniform(layer.weight)\n",
            "<ipython-input-131-9961cd76c00b>:19: UserWarning: nn.init.xavier_uniform is now deprecated in favor of nn.init.xavier_uniform_.\n",
            "  torch.nn.init.xavier_uniform(layer.weight)\n",
            "  2%|▏         | 1/50 [00:01<01:32,  1.88s/it]"
          ]
        },
        {
          "output_type": "stream",
          "name": "stdout",
          "text": [
            "train_loss=1.3526895154397\n"
          ]
        },
        {
          "output_type": "stream",
          "name": "stderr",
          "text": [
            "\r  4%|▍         | 2/50 [00:03<01:33,  1.95s/it]"
          ]
        },
        {
          "output_type": "stream",
          "name": "stdout",
          "text": [
            "train_loss=1.3047347934089573\n"
          ]
        },
        {
          "output_type": "stream",
          "name": "stderr",
          "text": [
            "\r  6%|▌         | 3/50 [00:05<01:17,  1.65s/it]"
          ]
        },
        {
          "output_type": "stream",
          "name": "stdout",
          "text": [
            "train_loss=1.2941599496313043\n"
          ]
        },
        {
          "output_type": "stream",
          "name": "stderr",
          "text": [
            "\r  8%|▊         | 4/50 [00:06<01:07,  1.46s/it]"
          ]
        },
        {
          "output_type": "stream",
          "name": "stdout",
          "text": [
            "train_loss=1.3008595271230203\n"
          ]
        },
        {
          "output_type": "stream",
          "name": "stderr",
          "text": [
            "\r 10%|█         | 5/50 [00:07<01:03,  1.42s/it]"
          ]
        },
        {
          "output_type": "stream",
          "name": "stdout",
          "text": [
            "train_loss=1.308869653226786\n"
          ]
        },
        {
          "output_type": "stream",
          "name": "stderr",
          "text": [
            "\r 12%|█▏        | 6/50 [00:09<01:00,  1.39s/it]"
          ]
        },
        {
          "output_type": "stream",
          "name": "stdout",
          "text": [
            "train_loss=1.2950366433983145\n"
          ]
        },
        {
          "output_type": "stream",
          "name": "stderr",
          "text": [
            "\r 14%|█▍        | 7/50 [00:10<00:57,  1.33s/it]"
          ]
        },
        {
          "output_type": "stream",
          "name": "stdout",
          "text": [
            "train_loss=1.377965286891893\n"
          ]
        },
        {
          "output_type": "stream",
          "name": "stderr",
          "text": [
            "\r 16%|█▌        | 8/50 [00:11<00:55,  1.32s/it]"
          ]
        },
        {
          "output_type": "stream",
          "name": "stdout",
          "text": [
            "train_loss=1.300130299964927\n"
          ]
        },
        {
          "output_type": "stream",
          "name": "stderr",
          "text": [
            "\r 18%|█▊        | 9/50 [00:12<00:53,  1.31s/it]"
          ]
        },
        {
          "output_type": "stream",
          "name": "stdout",
          "text": [
            "train_loss=1.2910549967445462\n"
          ]
        },
        {
          "output_type": "stream",
          "name": "stderr",
          "text": [
            "\r 20%|██        | 10/50 [00:14<00:57,  1.43s/it]"
          ]
        },
        {
          "output_type": "stream",
          "name": "stdout",
          "text": [
            "train_loss=1.2951000098095897\n"
          ]
        },
        {
          "output_type": "stream",
          "name": "stderr",
          "text": [
            "\r 22%|██▏       | 11/50 [00:20<01:44,  2.68s/it]"
          ]
        },
        {
          "output_type": "stream",
          "name": "stdout",
          "text": [
            "train_loss=1.3118715870794642\n"
          ]
        },
        {
          "output_type": "stream",
          "name": "stderr",
          "text": [
            "\r 24%|██▍       | 12/50 [00:22<01:38,  2.59s/it]"
          ]
        },
        {
          "output_type": "stream",
          "name": "stdout",
          "text": [
            "train_loss=1.306962281695664\n"
          ]
        },
        {
          "output_type": "stream",
          "name": "stderr",
          "text": [
            "\r 26%|██▌       | 13/50 [00:24<01:28,  2.38s/it]"
          ]
        },
        {
          "output_type": "stream",
          "name": "stdout",
          "text": [
            "train_loss=1.2957531699342617\n"
          ]
        },
        {
          "output_type": "stream",
          "name": "stderr",
          "text": [
            "\r 28%|██▊       | 14/50 [00:25<01:13,  2.05s/it]"
          ]
        },
        {
          "output_type": "stream",
          "name": "stdout",
          "text": [
            "train_loss=1.3065952840458932\n"
          ]
        },
        {
          "output_type": "stream",
          "name": "stderr",
          "text": [
            "\r 30%|███       | 15/50 [00:26<01:04,  1.83s/it]"
          ]
        },
        {
          "output_type": "stream",
          "name": "stdout",
          "text": [
            "train_loss=1.3238326169579187\n"
          ]
        },
        {
          "output_type": "stream",
          "name": "stderr",
          "text": [
            "\r 32%|███▏      | 16/50 [00:28<00:56,  1.65s/it]"
          ]
        },
        {
          "output_type": "stream",
          "name": "stdout",
          "text": [
            "train_loss=1.2923953975029434\n"
          ]
        },
        {
          "output_type": "stream",
          "name": "stderr",
          "text": [
            "\r 34%|███▍      | 17/50 [00:29<00:51,  1.57s/it]"
          ]
        },
        {
          "output_type": "stream",
          "name": "stdout",
          "text": [
            "train_loss=1.298761048947522\n"
          ]
        },
        {
          "output_type": "stream",
          "name": "stderr",
          "text": [
            "\r 36%|███▌      | 18/50 [00:31<00:50,  1.57s/it]"
          ]
        },
        {
          "output_type": "stream",
          "name": "stdout",
          "text": [
            "train_loss=1.3455625395056825\n"
          ]
        },
        {
          "output_type": "stream",
          "name": "stderr",
          "text": [
            "\r 38%|███▊      | 19/50 [00:32<00:49,  1.61s/it]"
          ]
        },
        {
          "output_type": "stream",
          "name": "stdout",
          "text": [
            "train_loss=1.298280746895374\n"
          ]
        },
        {
          "output_type": "stream",
          "name": "stderr",
          "text": [
            "\r 40%|████      | 20/50 [00:34<00:49,  1.65s/it]"
          ]
        },
        {
          "output_type": "stream",
          "name": "stdout",
          "text": [
            "train_loss=1.2931981889897792\n"
          ]
        },
        {
          "output_type": "stream",
          "name": "stderr",
          "text": [
            "\r 42%|████▏     | 21/50 [00:36<00:48,  1.66s/it]"
          ]
        },
        {
          "output_type": "stream",
          "name": "stdout",
          "text": [
            "train_loss=1.29624980101254\n"
          ]
        },
        {
          "output_type": "stream",
          "name": "stderr",
          "text": [
            "\r 44%|████▍     | 22/50 [00:37<00:42,  1.53s/it]"
          ]
        },
        {
          "output_type": "stream",
          "name": "stdout",
          "text": [
            "train_loss=1.3023741055409421\n"
          ]
        },
        {
          "output_type": "stream",
          "name": "stderr",
          "text": [
            "\r 46%|████▌     | 23/50 [00:38<00:39,  1.46s/it]"
          ]
        },
        {
          "output_type": "stream",
          "name": "stdout",
          "text": [
            "train_loss=1.301714684512164\n"
          ]
        },
        {
          "output_type": "stream",
          "name": "stderr",
          "text": [
            "\r 48%|████▊     | 24/50 [00:40<00:36,  1.41s/it]"
          ]
        },
        {
          "output_type": "stream",
          "name": "stdout",
          "text": [
            "train_loss=1.2942041513082143\n"
          ]
        },
        {
          "output_type": "stream",
          "name": "stderr",
          "text": [
            "\r 50%|█████     | 25/50 [00:41<00:34,  1.37s/it]"
          ]
        },
        {
          "output_type": "stream",
          "name": "stdout",
          "text": [
            "train_loss=1.3330781347042806\n"
          ]
        },
        {
          "output_type": "stream",
          "name": "stderr",
          "text": [
            "\r 52%|█████▏    | 26/50 [00:42<00:32,  1.37s/it]"
          ]
        },
        {
          "output_type": "stream",
          "name": "stdout",
          "text": [
            "train_loss=1.292212407331209\n"
          ]
        },
        {
          "output_type": "stream",
          "name": "stderr",
          "text": [
            "\r 54%|█████▍    | 27/50 [00:43<00:30,  1.32s/it]"
          ]
        },
        {
          "output_type": "stream",
          "name": "stdout",
          "text": [
            "train_loss=1.311496911476938\n"
          ]
        },
        {
          "output_type": "stream",
          "name": "stderr",
          "text": [
            "\r 56%|█████▌    | 28/50 [00:45<00:28,  1.32s/it]"
          ]
        },
        {
          "output_type": "stream",
          "name": "stdout",
          "text": [
            "train_loss=1.2990929609790272\n"
          ]
        },
        {
          "output_type": "stream",
          "name": "stderr",
          "text": [
            "\r 58%|█████▊    | 29/50 [00:46<00:28,  1.36s/it]"
          ]
        },
        {
          "output_type": "stream",
          "name": "stdout",
          "text": [
            "train_loss=1.3037900486277798\n"
          ]
        },
        {
          "output_type": "stream",
          "name": "stderr",
          "text": [
            "\r 60%|██████    | 30/50 [00:48<00:30,  1.50s/it]"
          ]
        },
        {
          "output_type": "stream",
          "name": "stdout",
          "text": [
            "train_loss=1.3284027994139314\n"
          ]
        },
        {
          "output_type": "stream",
          "name": "stderr",
          "text": [
            "\r 62%|██████▏   | 31/50 [00:50<00:29,  1.57s/it]"
          ]
        },
        {
          "output_type": "stream",
          "name": "stdout",
          "text": [
            "train_loss=1.2915312477520533\n"
          ]
        },
        {
          "output_type": "stream",
          "name": "stderr",
          "text": [
            "\r 64%|██████▍   | 32/50 [00:51<00:28,  1.58s/it]"
          ]
        },
        {
          "output_type": "stream",
          "name": "stdout",
          "text": [
            "train_loss=1.2959358197381599\n"
          ]
        },
        {
          "output_type": "stream",
          "name": "stderr",
          "text": [
            "\r 66%|██████▌   | 33/50 [00:53<00:25,  1.51s/it]"
          ]
        },
        {
          "output_type": "stream",
          "name": "stdout",
          "text": [
            "train_loss=1.3012605594852256\n"
          ]
        },
        {
          "output_type": "stream",
          "name": "stderr",
          "text": [
            "\r 68%|██████▊   | 34/50 [00:54<00:22,  1.44s/it]"
          ]
        },
        {
          "output_type": "stream",
          "name": "stdout",
          "text": [
            "train_loss=1.3105112028858377\n"
          ]
        },
        {
          "output_type": "stream",
          "name": "stderr",
          "text": [
            "\r 70%|███████   | 35/50 [00:55<00:20,  1.38s/it]"
          ]
        },
        {
          "output_type": "stream",
          "name": "stdout",
          "text": [
            "train_loss=1.302429101757101\n"
          ]
        },
        {
          "output_type": "stream",
          "name": "stderr",
          "text": [
            "\r 72%|███████▏  | 36/50 [00:56<00:18,  1.34s/it]"
          ]
        },
        {
          "output_type": "stream",
          "name": "stdout",
          "text": [
            "train_loss=1.2944911902475542\n"
          ]
        },
        {
          "output_type": "stream",
          "name": "stderr",
          "text": [
            "\r 74%|███████▍  | 37/50 [00:58<00:16,  1.29s/it]"
          ]
        },
        {
          "output_type": "stream",
          "name": "stdout",
          "text": [
            "train_loss=1.2986919274661533\n"
          ]
        },
        {
          "output_type": "stream",
          "name": "stderr",
          "text": [
            "\r 76%|███████▌  | 38/50 [00:59<00:15,  1.26s/it]"
          ]
        },
        {
          "output_type": "stream",
          "name": "stdout",
          "text": [
            "train_loss=1.328825522803892\n"
          ]
        },
        {
          "output_type": "stream",
          "name": "stderr",
          "text": [
            "\r 78%|███████▊  | 39/50 [01:00<00:13,  1.26s/it]"
          ]
        },
        {
          "output_type": "stream",
          "name": "stdout",
          "text": [
            "train_loss=1.3013065708189857\n"
          ]
        },
        {
          "output_type": "stream",
          "name": "stderr",
          "text": [
            "\r 80%|████████  | 40/50 [01:02<00:13,  1.40s/it]"
          ]
        },
        {
          "output_type": "stream",
          "name": "stdout",
          "text": [
            "train_loss=1.291556608838004\n"
          ]
        },
        {
          "output_type": "stream",
          "name": "stderr",
          "text": [
            "\r 82%|████████▏ | 41/50 [01:04<00:13,  1.55s/it]"
          ]
        },
        {
          "output_type": "stream",
          "name": "stdout",
          "text": [
            "train_loss=1.2987661544650677\n"
          ]
        },
        {
          "output_type": "stream",
          "name": "stderr",
          "text": [
            "\r 84%|████████▍ | 42/50 [01:06<00:13,  1.64s/it]"
          ]
        },
        {
          "output_type": "stream",
          "name": "stdout",
          "text": [
            "train_loss=1.2983771569480307\n"
          ]
        },
        {
          "output_type": "stream",
          "name": "stderr",
          "text": [
            "\r 86%|████████▌ | 43/50 [01:07<00:11,  1.63s/it]"
          ]
        },
        {
          "output_type": "stream",
          "name": "stdout",
          "text": [
            "train_loss=1.3195132641948788\n"
          ]
        },
        {
          "output_type": "stream",
          "name": "stderr",
          "text": [
            "\r 88%|████████▊ | 44/50 [01:08<00:09,  1.51s/it]"
          ]
        },
        {
          "output_type": "stream",
          "name": "stdout",
          "text": [
            "train_loss=1.292911826988905\n"
          ]
        },
        {
          "output_type": "stream",
          "name": "stderr",
          "text": [
            "\r 90%|█████████ | 45/50 [01:10<00:07,  1.44s/it]"
          ]
        },
        {
          "output_type": "stream",
          "name": "stdout",
          "text": [
            "train_loss=1.3148044580198164\n"
          ]
        },
        {
          "output_type": "stream",
          "name": "stderr",
          "text": [
            "\r 92%|█████████▏| 46/50 [01:11<00:05,  1.39s/it]"
          ]
        },
        {
          "output_type": "stream",
          "name": "stdout",
          "text": [
            "train_loss=1.310422154582145\n"
          ]
        },
        {
          "output_type": "stream",
          "name": "stderr",
          "text": [
            "\r 94%|█████████▍| 47/50 [01:12<00:04,  1.36s/it]"
          ]
        },
        {
          "output_type": "stream",
          "name": "stdout",
          "text": [
            "train_loss=1.288130056328755\n"
          ]
        },
        {
          "output_type": "stream",
          "name": "stderr",
          "text": [
            "\r 96%|█████████▌| 48/50 [01:13<00:02,  1.32s/it]"
          ]
        },
        {
          "output_type": "stream",
          "name": "stdout",
          "text": [
            "train_loss=1.3227597692528286\n"
          ]
        },
        {
          "output_type": "stream",
          "name": "stderr",
          "text": [
            "\r 98%|█████████▊| 49/50 [01:15<00:01,  1.30s/it]"
          ]
        },
        {
          "output_type": "stream",
          "name": "stdout",
          "text": [
            "train_loss=1.3064424127455383\n"
          ]
        },
        {
          "output_type": "stream",
          "name": "stderr",
          "text": [
            "100%|██████████| 50/50 [01:16<00:00,  1.53s/it]"
          ]
        },
        {
          "output_type": "stream",
          "name": "stdout",
          "text": [
            "train_loss=1.2886654533244468\n"
          ]
        },
        {
          "output_type": "stream",
          "name": "stderr",
          "text": [
            "\n"
          ]
        },
        {
          "output_type": "execute_result",
          "data": {
            "text/plain": [
              "1.2886654533244468"
            ]
          },
          "metadata": {},
          "execution_count": 138
        }
      ]
    },
    {
      "cell_type": "code",
      "source": [
        "test_pos_edge_index.shape"
      ],
      "metadata": {
        "colab": {
          "base_uri": "https://localhost:8080/"
        },
        "id": "flvXwcJtUOpz",
        "outputId": "02a7abb8-8494-4cff-b259-0c255d5f77bf"
      },
      "execution_count": null,
      "outputs": [
        {
          "output_type": "execute_result",
          "data": {
            "text/plain": [
              "torch.Size([2, 1295])"
            ]
          },
          "metadata": {},
          "execution_count": 139
        }
      ]
    },
    {
      "cell_type": "code",
      "source": [
        "test_pos_edge_index.shape, test_pos_edge_index[0, :]"
      ],
      "metadata": {
        "colab": {
          "base_uri": "https://localhost:8080/"
        },
        "id": "XOiyIWjJVf6N",
        "outputId": "4e9ad2c4-fcc2-4acc-a7cb-8cab505a0c4f"
      },
      "execution_count": null,
      "outputs": [
        {
          "output_type": "execute_result",
          "data": {
            "text/plain": [
              "(torch.Size([2, 1295]),\n",
              " tensor([1763,  521, 1486,  ..., 2157, 1760, 1101], dtype=torch.int32))"
            ]
          },
          "metadata": {},
          "execution_count": 140
        }
      ]
    },
    {
      "cell_type": "code",
      "source": [
        "import matplotlib.pyplot as plt\n",
        "\n",
        "epochs_plot = np.arange(0, epochs, 1)\n",
        "plt.plot(epochs_plot, train_losses, label=\"Train Loss\")\n",
        "plt.xlabel(\"Epoch\")\n",
        "plt.ylabel(\"Loss\")\n",
        "plt.legend()\n",
        "plt.show()"
      ],
      "metadata": {
        "colab": {
          "base_uri": "https://localhost:8080/",
          "height": 449
        },
        "id": "RVDIYDAfZSFD",
        "outputId": "b56efe31-86a7-4431-928f-4c2830b97ad6"
      },
      "execution_count": null,
      "outputs": [
        {
          "output_type": "display_data",
          "data": {
            "text/plain": [
              "<Figure size 640x480 with 1 Axes>"
            ],
            "image/png": "[encoded data removed]"
          },
          "metadata": {}
        }
      ]
    },
    {
      "cell_type": "code",
      "source": [
        "pos_preds = []\n",
        "neg_preds = []\n",
        "\n",
        "for iedge in range(0, test_pos_edge_index.shape[1], 1):\n",
        "  pos_edge = test_pos_edge_index[:, iedge:iedge+1]  # (2, B)\n",
        "  pos_pred = link_predictor(node_stats_list[pos_edge[0]], node_stats_list[pos_edge[1]])  # (B, )\n",
        "  pos_preds.append(pos_pred)\n",
        "\n",
        "  neg_edge = test_neg_edge_index[:, iedge:iedge+1]  # (2, B)\n",
        "  neg_pred = link_predictor(node_stats_list[neg_edge[0]], node_stats_list[neg_edge[1]])  # (Ne,)\n",
        "  neg_preds.append(neg_pred)"
      ],
      "metadata": {
        "colab": {
          "base_uri": "https://localhost:8080/",
          "height": 236
        },
        "id": "ljx16yyLNUPr",
        "outputId": "fbe8b132-9c31-420c-8c8f-5a93c6d0f418"
      },
      "execution_count": null,
      "outputs": [
        {
          "output_type": "error",
          "ename": "NameError",
          "evalue": "ignored",
          "traceback": [
            "\u001b[0;31m---------------------------------------------------------------------------\u001b[0m",
            "\u001b[0;31mNameError\u001b[0m                                 Traceback (most recent call last)",
            "\u001b[0;32m<ipython-input-1-6ff95535b297>\u001b[0m in \u001b[0;36m<cell line: 4>\u001b[0;34m()\u001b[0m\n\u001b[1;32m      2\u001b[0m \u001b[0mneg_preds\u001b[0m \u001b[0;34m=\u001b[0m \u001b[0;34m[\u001b[0m\u001b[0;34m]\u001b[0m\u001b[0;34m\u001b[0m\u001b[0;34m\u001b[0m\u001b[0m\n\u001b[1;32m      3\u001b[0m \u001b[0;34m\u001b[0m\u001b[0m\n\u001b[0;32m----> 4\u001b[0;31m \u001b[0;32mfor\u001b[0m \u001b[0miedge\u001b[0m \u001b[0;32min\u001b[0m \u001b[0mrange\u001b[0m\u001b[0;34m(\u001b[0m\u001b[0;36m0\u001b[0m\u001b[0;34m,\u001b[0m \u001b[0mtest_pos_edge_index\u001b[0m\u001b[0;34m.\u001b[0m\u001b[0mshape\u001b[0m\u001b[0;34m[\u001b[0m\u001b[0;36m1\u001b[0m\u001b[0;34m]\u001b[0m\u001b[0;34m,\u001b[0m \u001b[0;36m1\u001b[0m\u001b[0;34m)\u001b[0m\u001b[0;34m:\u001b[0m\u001b[0;34m\u001b[0m\u001b[0;34m\u001b[0m\u001b[0m\n\u001b[0m\u001b[1;32m      5\u001b[0m   \u001b[0mpos_edge\u001b[0m \u001b[0;34m=\u001b[0m \u001b[0mtest_pos_edge_index\u001b[0m\u001b[0;34m[\u001b[0m\u001b[0;34m:\u001b[0m\u001b[0;34m,\u001b[0m \u001b[0miedge\u001b[0m\u001b[0;34m:\u001b[0m\u001b[0miedge\u001b[0m\u001b[0;34m+\u001b[0m\u001b[0;36m1\u001b[0m\u001b[0;34m]\u001b[0m  \u001b[0;31m# (2, B)\u001b[0m\u001b[0;34m\u001b[0m\u001b[0;34m\u001b[0m\u001b[0m\n\u001b[1;32m      6\u001b[0m   \u001b[0mpos_pred\u001b[0m \u001b[0;34m=\u001b[0m \u001b[0mlink_predictor\u001b[0m\u001b[0;34m(\u001b[0m\u001b[0mnode_stats_list\u001b[0m\u001b[0;34m[\u001b[0m\u001b[0mpos_edge\u001b[0m\u001b[0;34m[\u001b[0m\u001b[0;36m0\u001b[0m\u001b[0;34m]\u001b[0m\u001b[0;34m]\u001b[0m\u001b[0;34m,\u001b[0m \u001b[0mnode_stats_list\u001b[0m\u001b[0;34m[\u001b[0m\u001b[0mpos_edge\u001b[0m\u001b[0;34m[\u001b[0m\u001b[0;36m1\u001b[0m\u001b[0;34m]\u001b[0m\u001b[0;34m]\u001b[0m\u001b[0;34m)\u001b[0m  \u001b[0;31m# (B, )\u001b[0m\u001b[0;34m\u001b[0m\u001b[0;34m\u001b[0m\u001b[0m\n",
            "\u001b[0;31mNameError\u001b[0m: name 'test_pos_edge_index' is not defined"
          ]
        }
      ]
    },
    {
      "cell_type": "code",
      "source": [
        "pos_preds = []\n",
        "neg_preds = []\n",
        "\n",
        "for iedge in range(0, test_pos_edge_index.shape[1], 1):\n",
        "  pos_edge = test_pos_edge_index[:, iedge:iedge+1]  # (2, B)\n",
        "  pos_pred = link_predictor(node_stats_list[pos_edge[0]], node_stats_list[pos_edge[1]])  # (B, )\n",
        "  pos_preds.append(pos_pred)\n",
        "\n",
        "  neg_edge = test_neg_edge_index[:, iedge:iedge+1]  # (2, B)\n",
        "  neg_pred = link_predictor(node_stats_list[neg_edge[0]], node_stats_list[neg_edge[1]])  # (Ne,)\n",
        "  neg_preds.append(neg_pred)"
      ],
      "metadata": {
        "id": "9kvEtM4sU2UT"
      },
      "execution_count": null,
      "outputs": []
    },
    {
      "cell_type": "code",
      "source": [
        "pos_preds = torch.tensor(pos_preds)\n",
        "neg_preds = torch.tensor(neg_preds)\n",
        "\n",
        "true_positives = (pos_preds>0.5).sum() \n",
        "false_negatives = (pos_preds<0.5).sum() \n",
        "\n",
        "true_negatives= (neg_preds<0.5).sum() \n",
        "false_positives = (neg_preds>0.5).sum() \n",
        "confusion_matrix = torch.tensor([  [true_positives,false_positives ] ,   [false_negatives, true_negatives]])"
      ],
      "metadata": {
        "id": "HOoXOzH4Wml3"
      },
      "execution_count": null,
      "outputs": []
    },
    {
      "cell_type": "code",
      "source": [
        "import seaborn as sns\n",
        "sns.heatmap(confusion_matrix, annot=True, cmap='Blues')"
      ],
      "metadata": {
        "colab": {
          "base_uri": "https://localhost:8080/",
          "height": 448
        },
        "id": "gqEkijctXRSJ",
        "outputId": "e2566a3d-02cb-4ba4-bc14-bc98b7d6a0b4"
      },
      "execution_count": null,
      "outputs": [
        {
          "output_type": "execute_result",
          "data": {
            "text/plain": [
              "<Axes: >"
            ]
          },
          "metadata": {},
          "execution_count": 146
        },
        {
          "output_type": "display_data",
          "data": {
            "text/plain": [
              "<Figure size 640x480 with 2 Axes>"
            ],
            "image/png": "[encoded data removed]"
          },
          "metadata": {}
        }
      ]
    },
    {
      "cell_type": "code",
      "source": [
        "accuracy= (true_positives + true_negatives) / (true_positives + true_negatives + false_positives + false_negatives )\n",
        "print(f\"{accuracy=}\")"
      ],
      "metadata": {
        "colab": {
          "base_uri": "https://localhost:8080/"
        },
        "id": "fIBJoLRAa8u-",
        "outputId": "1bcb4742-e4b6-4e6a-828b-360b5b306eb8"
      },
      "execution_count": null,
      "outputs": [
        {
          "output_type": "stream",
          "name": "stdout",
          "text": [
            "accuracy=tensor(0.6313)\n"
          ]
        }
      ]
    },
    {
      "cell_type": "code",
      "source": [
        "labels = ['True Neg','False Pos','False Neg','True Pos']\n",
        "labels = np.asarray(labels).reshape(2,2)\n",
        "sns.heatmap(confusion_matrix, annot=labels, fmt='', cmap='Blues')"
      ],
      "metadata": {
        "colab": {
          "base_uri": "https://localhost:8080/",
          "height": 449
        },
        "id": "EjnXfKOkYpcN",
        "outputId": "25c3f3c1-ec8d-4525-fcc4-23312350e9d1"
      },
      "execution_count": null,
      "outputs": [
        {
          "output_type": "execute_result",
          "data": {
            "text/plain": [
              "<Axes: >"
            ]
          },
          "metadata": {},
          "execution_count": 129
        },
        {
          "output_type": "display_data",
          "data": {
            "text/plain": [
              "<Figure size 640x480 with 2 Axes>"
            ],
            "image/png": "[encoded data removed]"
          },
          "metadata": {}
        }
      ]
    },
    {
      "cell_type": "code",
      "source": [
        "\n",
        "train_loss  "
      ],
      "metadata": {
        "colab": {
          "base_uri": "https://localhost:8080/"
        },
        "id": "SIKUQCV6EAm1",
        "outputId": "eefd82cc-1386-44e2-b127-9dd462e63498"
      },
      "execution_count": null,
      "outputs": [
        {
          "output_type": "execute_result",
          "data": {
            "text/plain": [
              "1.2941446313526639"
            ]
          },
          "metadata": {},
          "execution_count": 130
        }
      ]
    },
    {
      "cell_type": "code",
      "source": [
        "pred = link_predictor(node_stats_list[0], node_stats_list[00])\n",
        "pred"
      ],
      "metadata": {
        "id": "jJfYEuzdIPgw"
      },
      "execution_count": null,
      "outputs": []
    },
    {
      "cell_type": "code",
      "source": [],
      "metadata": {
        "id": "HTMkFZXZIiJQ"
      },
      "execution_count": null,
      "outputs": []
    }
  ],
  "metadata": {
    "colab": {
      "provenance": []
    },
    "kernelspec": {
      "display_name": "Python 3",
      "name": "python3"
    }
  },
  "nbformat": 4,
  "nbformat_minor": 0
}