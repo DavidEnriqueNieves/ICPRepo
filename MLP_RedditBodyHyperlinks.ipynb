{
  "cells": [
    {
      "cell_type": "code",
      "execution_count": 1,
      "metadata": {
        "colab": {
          "base_uri": "https://localhost:8080/"
        },
        "id": "VxOyE7DACKeT",
        "outputId": "ce15af0e-cf20-475f-e369-be9a81475569"
      },
      "outputs": [
        {
          "output_type": "stream",
          "name": "stdout",
          "text": [
            "Looking in indexes: https://pypi.org/simple, https://us-python.pkg.dev/colab-wheels/public/simple/\n",
            "Requirement already satisfied: torch in /usr/local/lib/python3.9/dist-packages (2.0.0+cu118)\n",
            "Requirement already satisfied: triton==2.0.0 in /usr/local/lib/python3.9/dist-packages (from torch) (2.0.0)\n",
            "Requirement already satisfied: filelock in /usr/local/lib/python3.9/dist-packages (from torch) (3.11.0)\n",
            "Requirement already satisfied: jinja2 in /usr/local/lib/python3.9/dist-packages (from torch) (3.1.2)\n",
            "Requirement already satisfied: typing-extensions in /usr/local/lib/python3.9/dist-packages (from torch) (4.5.0)\n",
            "Requirement already satisfied: sympy in /usr/local/lib/python3.9/dist-packages (from torch) (1.11.1)\n",
            "Requirement already satisfied: networkx in /usr/local/lib/python3.9/dist-packages (from torch) (3.1)\n",
            "Requirement already satisfied: cmake in /usr/local/lib/python3.9/dist-packages (from triton==2.0.0->torch) (3.25.2)\n",
            "Requirement already satisfied: lit in /usr/local/lib/python3.9/dist-packages (from triton==2.0.0->torch) (16.0.1)\n",
            "Requirement already satisfied: MarkupSafe>=2.0 in /usr/local/lib/python3.9/dist-packages (from jinja2->torch) (2.1.2)\n",
            "Requirement already satisfied: mpmath>=0.19 in /usr/local/lib/python3.9/dist-packages (from sympy->torch) (1.3.0)\n",
            "Looking in indexes: https://pypi.org/simple, https://us-python.pkg.dev/colab-wheels/public/simple/\n",
            "Collecting torch_geometric\n",
            "  Downloading torch_geometric-2.3.0.tar.gz (616 kB)\n",
            "\u001b[2K     \u001b[90m━━━━━━━━━━━━━━━━━━━━━━━━━━━━━━━━━━━━━━━\u001b[0m \u001b[32m616.2/616.2 kB\u001b[0m \u001b[31m6.8 MB/s\u001b[0m eta \u001b[36m0:00:00\u001b[0m\n",
            "\u001b[?25h  Installing build dependencies ... \u001b[?25l\u001b[?25hdone\n",
            "  Getting requirements to build wheel ... \u001b[?25l\u001b[?25hdone\n",
            "  Preparing metadata (pyproject.toml) ... \u001b[?25l\u001b[?25hdone\n",
            "Requirement already satisfied: pyparsing in /usr/local/lib/python3.9/dist-packages (from torch_geometric) (3.0.9)\n",
            "Requirement already satisfied: numpy in /usr/local/lib/python3.9/dist-packages (from torch_geometric) (1.22.4)\n",
            "Requirement already satisfied: scikit-learn in /usr/local/lib/python3.9/dist-packages (from torch_geometric) (1.2.2)\n",
            "Requirement already satisfied: scipy in /usr/local/lib/python3.9/dist-packages (from torch_geometric) (1.10.1)\n",
            "Requirement already satisfied: tqdm in /usr/local/lib/python3.9/dist-packages (from torch_geometric) (4.65.0)\n",
            "Requirement already satisfied: psutil>=5.8.0 in /usr/local/lib/python3.9/dist-packages (from torch_geometric) (5.9.5)\n",
            "Requirement already satisfied: requests in /usr/local/lib/python3.9/dist-packages (from torch_geometric) (2.27.1)\n",
            "Requirement already satisfied: jinja2 in /usr/local/lib/python3.9/dist-packages (from torch_geometric) (3.1.2)\n",
            "Requirement already satisfied: MarkupSafe>=2.0 in /usr/local/lib/python3.9/dist-packages (from jinja2->torch_geometric) (2.1.2)\n",
            "Requirement already satisfied: charset-normalizer~=2.0.0 in /usr/local/lib/python3.9/dist-packages (from requests->torch_geometric) (2.0.12)\n",
            "Requirement already satisfied: certifi>=2017.4.17 in /usr/local/lib/python3.9/dist-packages (from requests->torch_geometric) (2022.12.7)\n",
            "Requirement already satisfied: idna<4,>=2.5 in /usr/local/lib/python3.9/dist-packages (from requests->torch_geometric) (3.4)\n",
            "Requirement already satisfied: urllib3<1.27,>=1.21.1 in /usr/local/lib/python3.9/dist-packages (from requests->torch_geometric) (1.26.15)\n",
            "Requirement already satisfied: joblib>=1.1.1 in /usr/local/lib/python3.9/dist-packages (from scikit-learn->torch_geometric) (1.2.0)\n",
            "Requirement already satisfied: threadpoolctl>=2.0.0 in /usr/local/lib/python3.9/dist-packages (from scikit-learn->torch_geometric) (3.1.0)\n",
            "Building wheels for collected packages: torch_geometric\n",
            "  Building wheel for torch_geometric (pyproject.toml) ... \u001b[?25l\u001b[?25hdone\n",
            "  Created wheel for torch_geometric: filename=torch_geometric-2.3.0-py3-none-any.whl size=909897 sha256=f53cda43c50a500cb442902685af5cba6142164ff4b54745ee25fe140b35ab81\n",
            "  Stored in directory: /root/.cache/pip/wheels/cd/7d/6b/17150450b80b4a3656a84330e22709ccd8dc0f8f4773ba4133\n",
            "Successfully built torch_geometric\n",
            "Installing collected packages: torch_geometric\n",
            "Successfully installed torch_geometric-2.3.0\n",
            "Looking in indexes: https://pypi.org/simple, https://us-python.pkg.dev/colab-wheels/public/simple/\n",
            "Collecting dgl\n",
            "  Downloading dgl-1.0.1-cp39-cp39-manylinux1_x86_64.whl (5.4 MB)\n",
            "\u001b[2K     \u001b[90m━━━━━━━━━━━━━━━━━━━━━━━━━━━━━━━━━━━━━━━━\u001b[0m \u001b[32m5.4/5.4 MB\u001b[0m \u001b[31m43.6 MB/s\u001b[0m eta \u001b[36m0:00:00\u001b[0m\n",
            "\u001b[?25hRequirement already satisfied: numpy>=1.14.0 in /usr/local/lib/python3.9/dist-packages (from dgl) (1.22.4)\n",
            "Requirement already satisfied: scipy>=1.1.0 in /usr/local/lib/python3.9/dist-packages (from dgl) (1.10.1)\n",
            "Requirement already satisfied: networkx>=2.1 in /usr/local/lib/python3.9/dist-packages (from dgl) (3.1)\n",
            "Requirement already satisfied: psutil>=5.8.0 in /usr/local/lib/python3.9/dist-packages (from dgl) (5.9.5)\n",
            "Requirement already satisfied: tqdm in /usr/local/lib/python3.9/dist-packages (from dgl) (4.65.0)\n",
            "Requirement already satisfied: requests>=2.19.0 in /usr/local/lib/python3.9/dist-packages (from dgl) (2.27.1)\n",
            "Requirement already satisfied: idna<4,>=2.5 in /usr/local/lib/python3.9/dist-packages (from requests>=2.19.0->dgl) (3.4)\n",
            "Requirement already satisfied: charset-normalizer~=2.0.0 in /usr/local/lib/python3.9/dist-packages (from requests>=2.19.0->dgl) (2.0.12)\n",
            "Requirement already satisfied: certifi>=2017.4.17 in /usr/local/lib/python3.9/dist-packages (from requests>=2.19.0->dgl) (2022.12.7)\n",
            "Requirement already satisfied: urllib3<1.27,>=1.21.1 in /usr/local/lib/python3.9/dist-packages (from requests>=2.19.0->dgl) (1.26.15)\n",
            "Installing collected packages: dgl\n",
            "Successfully installed dgl-1.0.1\n"
          ]
        }
      ],
      "source": [
        "!pip install torch\n",
        "!pip install torch_geometric\n",
        "!pip install dgl"
      ]
    },
    {
      "cell_type": "code",
      "execution_count": 2,
      "metadata": {
        "id": "fpm5IZ_RBxGb"
      },
      "outputs": [],
      "source": [
        "%matplotlib inline"
      ]
    },
    {
      "cell_type": "code",
      "execution_count": 3,
      "metadata": {
        "colab": {
          "base_uri": "https://localhost:8080/"
        },
        "id": "bIo9jaTUJ2-4",
        "outputId": "47112803-1f40-4a4c-841b-f626ed44cbac"
      },
      "outputs": [
        {
          "output_type": "stream",
          "name": "stdout",
          "text": [
            "Looking in indexes: https://pypi.org/simple, https://us-python.pkg.dev/colab-wheels/public/simple/\n",
            "Collecting snap-stanford\n",
            "  Downloading snap_stanford-6.0.0-cp39-cp39-manylinux1_x86_64.whl (11.7 MB)\n",
            "\u001b[2K     \u001b[90m━━━━━━━━━━━━━━━━━━━━━━━━━━━━━━━━━━━━━━━━\u001b[0m \u001b[32m11.7/11.7 MB\u001b[0m \u001b[31m21.0 MB/s\u001b[0m eta \u001b[36m0:00:00\u001b[0m\n",
            "\u001b[?25hInstalling collected packages: snap-stanford\n",
            "Successfully installed snap-stanford-6.0.0\n"
          ]
        }
      ],
      "source": [
        "!pip install snap-stanford"
      ]
    },
    {
      "cell_type": "code",
      "execution_count": 4,
      "metadata": {
        "colab": {
          "base_uri": "https://localhost:8080/"
        },
        "id": "PDEUmwPSLvnF",
        "outputId": "da67150a-0c0c-4953-a4f5-5fa4b16497e2"
      },
      "outputs": [
        {
          "output_type": "stream",
          "name": "stdout",
          "text": [
            "Mounted at /content/drive/\n"
          ]
        }
      ],
      "source": [
        "from google.colab import drive\n",
        "drive.mount('/content/drive/')"
      ]
    },
    {
      "cell_type": "code",
      "execution_count": 5,
      "metadata": {
        "colab": {
          "base_uri": "https://localhost:8080/"
        },
        "id": "IUPyb--VKX_F",
        "outputId": "0453f660-63c0-42f2-a200-6c4353dd73a6"
      },
      "outputs": [
        {
          "output_type": "stream",
          "name": "stderr",
          "text": [
            "DGL backend not selected or invalid.  Assuming PyTorch for now.\n"
          ]
        },
        {
          "output_type": "stream",
          "name": "stdout",
          "text": [
            "Setting the default backend to \"pytorch\". You can change it in the ~/.dgl/config.json file or export the DGLBACKEND environment variable.  Valid options are: pytorch, mxnet, tensorflow (all lowercase)\n"
          ]
        }
      ],
      "source": [
        "import snap\n",
        "import pandas as pd\n",
        "import dgl\n",
        "import torch\n",
        "import torch.nn as nn\n",
        "import torch.nn.functional as F\n",
        "import itertools\n",
        "import numpy as np\n",
        "import scipy.sparse as sp\n",
        "import dgl.data\n",
        "from dgl.nn import SAGEConv\n",
        "import dgl.function as fn\n",
        "\n",
        "\n",
        "graph_path = \"/content/drive/MyDrive/ICPC/RedditHyperlinks.tsv\"\n",
        "G5 = snap.LoadEdgeList(snap.TNGraph,graph_path , 0, 1)\n",
        "\n",
        "\n"
      ]
    },
    {
      "cell_type": "code",
      "execution_count": 6,
      "metadata": {
        "id": "o3QmlYW1VBnc"
      },
      "outputs": [],
      "source": [
        "df = pd.read_csv(graph_path, sep='\\t')\n"
      ]
    },
    {
      "cell_type": "code",
      "execution_count": 7,
      "metadata": {
        "colab": {
          "base_uri": "https://localhost:8080/"
        },
        "id": "0wU_jEgpqyww",
        "outputId": "ff65dcf4-a09f-4ad0-e149-c914b0b445c3"
      },
      "outputs": [
        {
          "output_type": "execute_result",
          "data": {
            "text/plain": [
              "(4488, 2448, 2040)"
            ]
          },
          "metadata": {},
          "execution_count": 7
        }
      ],
      "source": [
        "len(list(set(df[\"SOURCE_SUBREDDIT\"])) + list(set(df[\"TARGET_SUBREDDIT\"]))), len(set(df[\"SOURCE_SUBREDDIT\"])), len(set(df[\"TARGET_SUBREDDIT\"]))"
      ]
    },
    {
      "cell_type": "code",
      "execution_count": 8,
      "metadata": {
        "colab": {
          "base_uri": "https://localhost:8080/"
        },
        "id": "p3mFS2cBr6cr",
        "outputId": "f8f71aab-ec21-493a-fcc3-8f5b641a1d50"
      },
      "outputs": [
        {
          "output_type": "stream",
          "name": "stdout",
          "text": [
            "Looking in indexes: https://pypi.org/simple, https://us-python.pkg.dev/colab-wheels/public/simple/\n",
            "Requirement already satisfied: tqdm in /usr/local/lib/python3.9/dist-packages (4.65.0)\n"
          ]
        }
      ],
      "source": [
        "!pip install tqdm"
      ]
    },
    {
      "cell_type": "code",
      "execution_count": 9,
      "metadata": {
        "id": "rvOXQdCtSSeE"
      },
      "outputs": [],
      "source": [
        "import torch"
      ]
    },
    {
      "cell_type": "code",
      "execution_count": 10,
      "metadata": {
        "cellView": "form",
        "colab": {
          "base_uri": "https://localhost:8080/"
        },
        "id": "QZKZL9aXgo3v",
        "outputId": "1a6425e0-b142-4d84-d219-72eec95781a7"
      },
      "outputs": [
        {
          "output_type": "stream",
          "name": "stderr",
          "text": [
            "7798it [00:01, 4183.20it/s]\n"
          ]
        },
        {
          "output_type": "stream",
          "name": "stdout",
          "text": [
            "len(POST_PROPERTIES)=33\n"
          ]
        }
      ],
      "source": [
        "#@title Default title text\n",
        "import pickle\n",
        "from tqdm import tqdm\n",
        "uniq_sreddits = list(set(df[\"SOURCE_SUBREDDIT\"])) + list(set(df[\"TARGET_SUBREDDIT\"]))\n",
        "subreddit_stats = {i : {} for i, x in enumerate(uniq_sreddits) }\n",
        "edge_indices = []\n",
        "\n",
        "def gather_node_edge_statistics(df):\n",
        "  for i, row in tqdm(df.iterrows()):\n",
        "    SOURCE_SUBREDDIT = uniq_sreddits.index(row[0])\n",
        "    TARGET_SUBREDDIT = uniq_sreddits.index(row[1])\n",
        "    edge_indices.append([SOURCE_SUBREDDIT, TARGET_SUBREDDIT])\n",
        "    # POST_ID          = row[2]\n",
        "    # TIMESTAMP        = row[3]\n",
        "    POST_LABEL       = row[4]\n",
        "    POST_PROPERTIES  = row[5].split(\",\")\n",
        "\n",
        "    # we are primarily interested in these averages:\n",
        "    #8. Number of words\n",
        "    #43. LIWC_Swear\n",
        "    #19. Positive sentiment calculated by VADER\n",
        "    #20. Negative sentiment calculated by VADER\n",
        "    #21. Compound sentiment calculated by VADER\n",
        "    #82. LIWC_Death\n",
        "    #11. Average word length\n",
        "    # assert len(POST_PROPERTIES) == 86\n",
        "    if(len(POST_PROPERTIES) != 86):\n",
        "      print(f\"{len(POST_PROPERTIES)=}\")\n",
        "    else:\n",
        "      nwords = float(POST_PROPERTIES[8-1])\n",
        "      swear_sentiment = float(POST_PROPERTIES[43 -1])\n",
        "      positivity = float(POST_PROPERTIES[19 -1])\n",
        "      negativity = float(POST_PROPERTIES[20 -1])\n",
        "      compound = float(POST_PROPERTIES[21 -1])\n",
        "      avg_word_length = float(POST_PROPERTIES[11 - 1])\n",
        "      # print(f\"{POST_PROPERTIES=}\")\n",
        "\n",
        "      # print(f\"{SOURCE_SUBREDDIT=}\")\n",
        "      # print(f\"{TARGET_SUBREDDIT=}\")\n",
        "      # print(f\"{POST_PROPERTIES[8-1]=}\")\n",
        "      # print(f\"{type(subreddit_stats[SOURCE_SUBREDDIT])=}\")\n",
        "      # print(f\"{type(subreddit_stats[SOURCE_SUBREDDIT])=}\")\n",
        "      if(subreddit_stats[SOURCE_SUBREDDIT] == {}):\n",
        "        subreddit_stats[SOURCE_SUBREDDIT] = {\n",
        "            \"avg_words\" : [nwords],\n",
        "            \"avg_swear_sentiment\" : [swear_sentiment],\n",
        "            \"avg_positivity\" : [positivity],\n",
        "            \"avg_negativity\" : [negativity],\n",
        "            \"avg_compound\" : [compound],\n",
        "            \"avg_word_length\" : [avg_word_length],\n",
        "            \"sent_posts\" : 1,\n",
        "            \"received_posts\" : 0\n",
        "        }\n",
        "      else: \n",
        "        subreddit_stats[SOURCE_SUBREDDIT][\"avg_words\"].append(nwords)\n",
        "        subreddit_stats[SOURCE_SUBREDDIT][\"avg_swear_sentiment\"].append(swear_sentiment)\n",
        "        subreddit_stats[SOURCE_SUBREDDIT][\"avg_positivity\"].append(positivity)\n",
        "        subreddit_stats[SOURCE_SUBREDDIT][\"avg_negativity\"].append(negativity)\n",
        "        subreddit_stats[SOURCE_SUBREDDIT][\"avg_compound\"].append(compound)\n",
        "        subreddit_stats[SOURCE_SUBREDDIT][\"avg_word_length\"].append(avg_word_length)\n",
        "        subreddit_stats[SOURCE_SUBREDDIT][\"sent_posts\"]+=1\n",
        "\n",
        "      if(subreddit_stats[TARGET_SUBREDDIT] == {}):\n",
        "        subreddit_stats[TARGET_SUBREDDIT] = {\n",
        "          \"avg_words\" : [0],\n",
        "          \"avg_swear_sentiment\" : [0],\n",
        "          \"avg_positivity\" : [0],\n",
        "          \"avg_negativity\" : [0],\n",
        "          \"avg_compound\" : [0],\n",
        "          \"avg_word_length\" : [0],\n",
        "          \"sent_posts\" : 0,\n",
        "          \"received_posts\" : 1\n",
        "      }\n",
        "      else:\n",
        "        subreddit_stats[TARGET_SUBREDDIT][\"received_posts\"]+=1\n",
        "\n",
        "    \n",
        "\n",
        "# node_stats = []\n",
        "# get node statistics\n",
        "gather_node_edge_statistics(df)\n",
        "edge_indices = torch.tensor(edge_indices)"
      ]
    },
    {
      "cell_type": "code",
      "execution_count": 11,
      "metadata": {
        "colab": {
          "base_uri": "https://localhost:8080/"
        },
        "id": "FM9qx-txEoJ3",
        "outputId": "a96577e7-28aa-4ebf-b2f2-57cf95f6022c"
      },
      "outputs": [
        {
          "output_type": "execute_result",
          "data": {
            "text/plain": [
              "tensor(4481)"
            ]
          },
          "metadata": {},
          "execution_count": 11
        }
      ],
      "source": [
        "edge_indices.max()"
      ]
    },
    {
      "cell_type": "code",
      "execution_count": 12,
      "metadata": {
        "id": "yN4y0Tqy27gN"
      },
      "outputs": [],
      "source": [
        "import torch"
      ]
    },
    {
      "cell_type": "code",
      "execution_count": 13,
      "metadata": {
        "id": "21lqXSbyp06z"
      },
      "outputs": [],
      "source": [
        "#@title Default title text\n",
        "import numpy as np\n",
        "for i in subreddit_stats.keys():\n",
        "  if(subreddit_stats[i] != {}):\n",
        "    # print(f\"{subreddit_stats[i]=}\")\n",
        "    # print(f\"{type(subreddit_stats[i]['avg_words'])=}\")\n",
        "    # print(f\"{subreddit_stats[i]['avg_words']=}\")\n",
        "    subreddit_stats[i][\"avg_words\"] = np.average(subreddit_stats[i][\"avg_words\"])\n",
        "    subreddit_stats[i][\"avg_swear_sentiment\"] = np.average(subreddit_stats[i][\"avg_swear_sentiment\"])\n",
        "    subreddit_stats[i][\"avg_positivity\"] = np.average(subreddit_stats[i][\"avg_positivity\"])\n",
        "    subreddit_stats[i][\"avg_negativity\"] = np.average(subreddit_stats[i][\"avg_negativity\"])\n",
        "    subreddit_stats[i][\"avg_compound\"] = np.average(subreddit_stats[i][\"avg_compound\"])\n",
        "    subreddit_stats[i][\"avg_word_length\"] = np.average(subreddit_stats[i][\"avg_word_length\"])\n",
        "\n",
        "\n",
        "with open(\"/content/drive/MyDrive/ICPC/subreddit_stats.pkl\", \"wb\")  as f:\n",
        "  pickle.dump(subreddit_stats, f)"
      ]
    },
    {
      "cell_type": "code",
      "execution_count": 14,
      "metadata": {
        "id": "j4hFeoeS0keU"
      },
      "outputs": [],
      "source": [
        "#@title Default title text\n",
        "node_stats_list = []\n",
        "def stats_dict_2_tensor(subreddit_stats):\n",
        "  _node_stats_list = []\n",
        "  for i in subreddit_stats.keys():\n",
        "    _node_stat_list = []\n",
        "    # print(f\"{subreddit_stats[i]=}\")\n",
        "    if(subreddit_stats[i] != {}):\n",
        "      _node_stat_list.append(subreddit_stats[i]['avg_words'])\n",
        "      _node_stat_list.append(subreddit_stats[i]['avg_swear_sentiment'])\n",
        "      _node_stat_list.append(subreddit_stats[i]['avg_positivity'])\n",
        "      _node_stat_list.append(subreddit_stats[i]['avg_negativity'])\n",
        "      _node_stat_list.append(subreddit_stats[i]['avg_compound'])\n",
        "      _node_stat_list.append(subreddit_stats[i]['avg_word_length'])\n",
        "      _node_stat_list.append(subreddit_stats[i]['sent_posts'])\n",
        "      _node_stat_list.append(subreddit_stats[i]['received_posts'])\n",
        "      _node_stats_list.append(_node_stat_list)\n",
        "  return torch.tensor(_node_stats_list)\n",
        "node_stats_list = stats_dict_2_tensor(subreddit_stats)"
      ]
    },
    {
      "cell_type": "code",
      "execution_count": 15,
      "metadata": {
        "colab": {
          "base_uri": "https://localhost:8080/"
        },
        "id": "KqA9gG8_fclD",
        "outputId": "168008fe-353e-48cf-99f1-cc9b5468ab54"
      },
      "outputs": [
        {
          "output_type": "execute_result",
          "data": {
            "text/plain": [
              "(tensor([[ 772,  585],\n",
              "         [ 581, 2040],\n",
              "         [2302, 4095],\n",
              "         ...,\n",
              "         [2087, 1889],\n",
              "         [1387, 1691],\n",
              "         [ 713, 3772]]),\n",
              " torch.Size([3501, 8]))"
            ]
          },
          "metadata": {},
          "execution_count": 15
        }
      ],
      "source": [
        "edge_indices, node_stats_list.shape"
      ]
    },
    {
      "cell_type": "code",
      "execution_count": 16,
      "metadata": {
        "id": "uKrBPEwEqzLl"
      },
      "outputs": [],
      "source": [
        "# get rid of entries in the edge_index that reference nodes beyond the nodes in stats_list\n",
        "pruned_edge_indices = [ x for x in edge_indices if x[0] < node_stats_list.shape[0] and x[1] < node_stats_list.shape[0]  ]\n",
        "pruned_edge_indices = torch.stack(pruned_edge_indices)\n",
        "pruned_edge_indices.shape, pruned_edge_indices.max()\n",
        "edge_indices = pruned_edge_indices"
      ]
    },
    {
      "cell_type": "code",
      "execution_count": 17,
      "metadata": {
        "id": "hlC2JZmM3eYU"
      },
      "outputs": [],
      "source": [
        "# 2,3,4,6,7\n",
        "# correspond to positivity, negativity, compound (negativity and positivity combined), sent, and received respectively\n",
        "most_negative_node = np.argmin(node_stats_list[:, 4])\n",
        "most_positive_node = np.argmax(node_stats_list[:, 4])\n",
        "most_active_node = np.argmax(node_stats_list[:, 6])\n",
        "most_sweary_node = np.argmax(node_stats_list[: , 1])\n",
        "\n",
        "# subreddit_stats[most_negative_node],subreddit_stats[most_positive_node], subreddit_stats[most_active_node], subreddit_stats[most_sweary_node]\n"
      ]
    },
    {
      "cell_type": "code",
      "execution_count": 18,
      "metadata": {
        "colab": {
          "base_uri": "https://localhost:8080/"
        },
        "id": "Iej4Ao-qDqzF",
        "outputId": "6579bec9-84f8-4588-e828-201bb8839040"
      },
      "outputs": [
        {
          "output_type": "stream",
          "name": "stderr",
          "text": [
            "Downloading https://github.com/kimiyoung/planetoid/raw/master/data/ind.cora.x\n",
            "Downloading https://github.com/kimiyoung/planetoid/raw/master/data/ind.cora.tx\n",
            "Downloading https://github.com/kimiyoung/planetoid/raw/master/data/ind.cora.allx\n",
            "Downloading https://github.com/kimiyoung/planetoid/raw/master/data/ind.cora.y\n",
            "Downloading https://github.com/kimiyoung/planetoid/raw/master/data/ind.cora.ty\n",
            "Downloading https://github.com/kimiyoung/planetoid/raw/master/data/ind.cora.ally\n",
            "Downloading https://github.com/kimiyoung/planetoid/raw/master/data/ind.cora.graph\n",
            "Downloading https://github.com/kimiyoung/planetoid/raw/master/data/ind.cora.test.index\n",
            "Processing...\n",
            "Done!\n"
          ]
        },
        {
          "output_type": "execute_result",
          "data": {
            "text/plain": [
              "Data(x=[2708, 1433], edge_index=[2, 10556], y=[2708], train_mask=[2708], val_mask=[2708], test_mask=[2708])"
            ]
          },
          "metadata": {},
          "execution_count": 18
        }
      ],
      "source": [
        "from torch_geometric.datasets import Planetoid\n",
        "# Load data\n",
        "dataset = Planetoid(root='./data/cora', name='cora')\n",
        "data = dataset[0]\n",
        "data"
      ]
    },
    {
      "cell_type": "code",
      "execution_count": 19,
      "metadata": {
        "colab": {
          "base_uri": "https://localhost:8080/"
        },
        "id": "yWL1nZ1TXHMb",
        "outputId": "98c23219-891d-499a-a035-2ab332407c7f"
      },
      "outputs": [
        {
          "output_type": "execute_result",
          "data": {
            "text/plain": [
              "(1433, 7)"
            ]
          },
          "metadata": {},
          "execution_count": 19
        }
      ],
      "source": [
        "data.num_node_features, dataset.num_classes"
      ]
    },
    {
      "cell_type": "code",
      "execution_count": 20,
      "metadata": {
        "colab": {
          "base_uri": "https://localhost:8080/"
        },
        "id": "h3EpUCLNT8e7",
        "outputId": "538841c0-f2b8-4b19-a231-74f8038d3c80"
      },
      "outputs": [
        {
          "output_type": "execute_result",
          "data": {
            "text/plain": [
              "[True,\n",
              " True,\n",
              " True,\n",
              " True,\n",
              " True,\n",
              " True,\n",
              " False,\n",
              " True,\n",
              " True,\n",
              " True,\n",
              " True,\n",
              " True,\n",
              " True,\n",
              " False,\n",
              " True]"
            ]
          },
          "metadata": {},
          "execution_count": 20
        }
      ],
      "source": [
        "\n",
        "import random \n",
        "\n",
        "def gen_train_mask( num_nodes : int, n : int) -> torch.tensor:\n",
        "  rand_indices = [True] * num_nodes\n",
        "  for i in range(n):\n",
        "    num = random.randint(0, num_nodes - 1)\n",
        "    rand_indices[num] = False\n",
        "  return rand_indices\n",
        "  \n",
        "gen_train_mask(15, 2)"
      ]
    },
    {
      "cell_type": "code",
      "execution_count": 21,
      "metadata": {
        "colab": {
          "base_uri": "https://localhost:8080/"
        },
        "id": "2WTf271KTlBG",
        "outputId": "fb3014b8-7cb5-40a1-c336-95c60c4170f4"
      },
      "outputs": [
        {
          "output_type": "stream",
          "name": "stdout",
          "text": [
            "type(x)=<class 'torch.Tensor'>\n",
            "edge_indices.shape=torch.Size([6503, 2])\n"
          ]
        },
        {
          "output_type": "stream",
          "name": "stderr",
          "text": [
            "<ipython-input-21-ab3782da0f76>:6: UserWarning: To copy construct from a tensor, it is recommended to use sourceTensor.clone().detach() or sourceTensor.clone().detach().requires_grad_(True), rather than torch.tensor(sourceTensor).\n",
            "  x = torch.tensor(node_stats_list)\n"
          ]
        }
      ],
      "source": [
        "from torch_geometric.data import Data\n",
        "\n",
        "train_mask = gen_train_mask(node_stats_list.shape[0], round(0.3 * node_stats_list.shape[0]))\n",
        "# train_mask = gen_train_mask(edge_indices.shape[0], round(0.60 * edge_indices.shape[0]))\n",
        "train_mask = torch.tensor(train_mask)\n",
        "x = torch.tensor(node_stats_list)\n",
        "x = x.float()\n",
        "edge_indices = edge_indices.int()\n",
        "print(f\"{type(x)=}\")\n",
        "print(f\"{edge_indices.shape=}\")\n",
        "dataset = Data(x =x , edge_index = edge_indices.T, train_mask =train_mask  )\n"
      ]
    },
    {
      "cell_type": "code",
      "execution_count": 22,
      "metadata": {
        "colab": {
          "base_uri": "https://localhost:8080/"
        },
        "id": "oglKwxrXS0ZF",
        "outputId": "084a4b06-72f9-428a-d03f-6ec70e37aec9"
      },
      "outputs": [
        {
          "output_type": "execute_result",
          "data": {
            "text/plain": [
              "(torch.Size([3501, 8]), torch.Size([2, 6503]))"
            ]
          },
          "metadata": {},
          "execution_count": 22
        }
      ],
      "source": [
        "dataset.x.shape, dataset.edge_index.shape"
      ]
    },
    {
      "cell_type": "code",
      "execution_count": 23,
      "metadata": {
        "colab": {
          "base_uri": "https://localhost:8080/"
        },
        "id": "oDw6N8fW4Mx4",
        "outputId": "bcb641bb-8110-4246-d203-379d5561a0ff"
      },
      "outputs": [
        {
          "output_type": "execute_result",
          "data": {
            "text/plain": [
              "torch.Size([500, 8])"
            ]
          },
          "metadata": {},
          "execution_count": 23
        }
      ],
      "source": [
        "dataset.x[dataset.train_mask][0],  dataset.x[~dataset.train_mask][0]\n",
        "\n",
        "num_nodes = dataset.x.shape[0]\n",
        "train_mask = torch.zeros(num_nodes, dtype=torch.bool)\n",
        "train_mask[:500] = 1\n",
        "\n",
        "# Use the train_mask to get the subset of nodes and edges\n",
        "sub_data = dataset.x[train_mask]\n",
        "sub_data.shape"
      ]
    },
    {
      "cell_type": "code",
      "execution_count": 24,
      "metadata": {
        "colab": {
          "base_uri": "https://localhost:8080/"
        },
        "id": "ZPrOltFMoLPg",
        "outputId": "b14013c0-1ccd-46fb-ebb8-68892c5116e9"
      },
      "outputs": [
        {
          "output_type": "execute_result",
          "data": {
            "text/plain": [
              "tensor(3499, dtype=torch.int32)"
            ]
          },
          "metadata": {},
          "execution_count": 24
        }
      ],
      "source": [
        "dataset.edge_index[:, :].max()"
      ]
    },
    {
      "cell_type": "code",
      "execution_count": 25,
      "metadata": {
        "colab": {
          "base_uri": "https://localhost:8080/"
        },
        "id": "72TAbvZYnZu9",
        "outputId": "8e86b00e-77f8-4791-b26f-c7392466d8d6"
      },
      "outputs": [
        {
          "output_type": "execute_result",
          "data": {
            "text/plain": [
              "(torch.Size([2, 6503]), torch.Size([3501, 8]), 4488)"
            ]
          },
          "metadata": {},
          "execution_count": 25
        }
      ],
      "source": [
        "# NEED TO MAKE IT SO THAT MAX ENTRY IN DATASET.X IS < len(uniq_sreddits)!!!!!\n",
        "dataset.edge_index.shape, dataset.x.shape, len(uniq_sreddits)"
      ]
    },
    {
      "cell_type": "code",
      "execution_count": 26,
      "metadata": {
        "colab": {
          "base_uri": "https://localhost:8080/"
        },
        "id": "rSfYIksH_aYV",
        "outputId": "d517e275-bd7b-455b-ace2-861220b93365"
      },
      "outputs": [
        {
          "output_type": "execute_result",
          "data": {
            "text/plain": [
              "8"
            ]
          },
          "metadata": {},
          "execution_count": 26
        }
      ],
      "source": [
        "dataset.num_features"
      ]
    },
    {
      "cell_type": "code",
      "execution_count": 27,
      "metadata": {
        "id": "MBcQA0U46tbC"
      },
      "outputs": [],
      "source": [
        "num_train_nodes = round(dataset.edge_index.shape[1] * 0.8)\n",
        "train_mask = torch.zeros(dataset.edge_index.shape[1], dtype=torch.bool)\n",
        "train_mask[:num_train_nodes] = True\n",
        "dataset = Data(x =x , edge_index = edge_indices.T, train_mask =train_mask  )"
      ]
    },
    {
      "cell_type": "code",
      "execution_count": 28,
      "metadata": {
        "id": "8M_SUSnUjlHq"
      },
      "outputs": [],
      "source": [
        "from torch_geometric.utils import negative_sampling"
      ]
    },
    {
      "cell_type": "code",
      "execution_count": 29,
      "metadata": {
        "id": "ko_vZlzxmnal"
      },
      "outputs": [],
      "source": [
        "import torch\n",
        "import torch.nn.functional as F\n",
        "from torch_geometric.nn import GCNConv\n"
      ]
    },
    {
      "cell_type": "code",
      "execution_count": 30,
      "metadata": {
        "id": "MtUaJwLOoob5"
      },
      "outputs": [],
      "source": [
        "# Set up the training and testing data\n",
        "edge_index = edge_indices.T\n",
        "total_indices = edge_indices.shape[0]\n",
        "total_indices\n",
        "\n",
        "alpha = 0.8\n",
        "train_size = round((alpha) * total_indices)\n",
        "test_size =  round( (1 - alpha) * total_indices )"
      ]
    },
    {
      "cell_type": "code",
      "execution_count": 31,
      "metadata": {
        "colab": {
          "base_uri": "https://localhost:8080/"
        },
        "id": "NFT02nbqrg0t",
        "outputId": "f6089d1e-e005-453d-be67-5b2b2d113a40"
      },
      "outputs": [
        {
          "output_type": "execute_result",
          "data": {
            "text/plain": [
              "(6503, 5202, 1301, torch.Size([2, 6503]))"
            ]
          },
          "metadata": {},
          "execution_count": 31
        }
      ],
      "source": [
        "total_indices, train_size, test_size, edge_index.shape"
      ]
    },
    {
      "cell_type": "code",
      "execution_count": 32,
      "metadata": {
        "id": "q4j7w-NRmxp6"
      },
      "outputs": [],
      "source": [
        "\n",
        "\n",
        "\n",
        "# subsample the training and test based off the positive edge_indices instead of the negative edge indices\n",
        "\n",
        "neg_edge_index = negative_sampling(\n",
        "        edge_index=edge_index,\n",
        "        num_nodes=node_stats_list.shape[0],\n",
        "        num_neg_samples=edge_index.shape[1]\n",
        "    )\n",
        "\n",
        "\n",
        "train_pos_edge_index = edge_index[:, :train_size] \n",
        "train_neg_edge_index = neg_edge_index[:, :train_size]\n",
        "\n",
        "\n",
        "test_pos_edge_index = edge_index[:, train_size:]\n",
        "test_neg_edge_index = neg_edge_index[:, train_size:]\n",
        "\n"
      ]
    },
    {
      "cell_type": "code",
      "execution_count": 33,
      "metadata": {
        "colab": {
          "base_uri": "https://localhost:8080/"
        },
        "id": "bR7Nn0fGrR95",
        "outputId": "03221b76-42fd-4fa0-ee71-fe4d4b0e874a"
      },
      "outputs": [
        {
          "output_type": "execute_result",
          "data": {
            "text/plain": [
              "(torch.Size([2, 5202]),\n",
              " torch.Size([2, 5202]),\n",
              " torch.Size([2, 1301]),\n",
              " torch.Size([2, 1301]))"
            ]
          },
          "metadata": {},
          "execution_count": 33
        }
      ],
      "source": [
        "train_neg_edge_index.shape, train_pos_edge_index.shape, test_pos_edge_index.shape, test_neg_edge_index.shape"
      ]
    },
    {
      "cell_type": "code",
      "execution_count": 34,
      "metadata": {
        "colab": {
          "base_uri": "https://localhost:8080/"
        },
        "id": "93z3ceVmMUJX",
        "outputId": "e42c49b6-def4-4075-e2ec-236cf3cfa908"
      },
      "outputs": [
        {
          "output_type": "execute_result",
          "data": {
            "text/plain": [
              "(tensor([[ 772,  581,  624,  ...,  210, 1830, 1389],\n",
              "         [ 585, 2040, 2058,  ...,  999, 1602,  265]], dtype=torch.int32),\n",
              " tensor([[1450, 2752,   70,  ..., 1247,  265, 2392],\n",
              "         [ 672,  886, 1469,  ..., 1909, 3076, 2461]]))"
            ]
          },
          "metadata": {},
          "execution_count": 34
        }
      ],
      "source": [
        "train_pos_edge_index,train_neg_edge_index "
      ]
    },
    {
      "cell_type": "code",
      "execution_count": 35,
      "metadata": {
        "id": "z4IsJIXdnNM7"
      },
      "outputs": [],
      "source": [
        "import torch.nn as nn"
      ]
    },
    {
      "cell_type": "code",
      "execution_count": 36,
      "metadata": {
        "id": "lxGeV-fHmtDg"
      },
      "outputs": [],
      "source": [
        "import torch_geometric as pyg\n",
        "import torch\n",
        "from torch import nn\n",
        "import torch.nn.functional as F\n",
        "\n",
        "class LinkPredictor(nn.Module):\n",
        "    def __init__(self, in_channels, hidden_channels, out_channels, num_layers,\n",
        "                 dropout):\n",
        "        super(LinkPredictor, self).__init__()\n",
        "\n",
        "        # Create linear layers\n",
        "        self.lins = nn.ModuleList()\n",
        "        self.lins.append(nn.Linear(in_channels, hidden_channels))\n",
        "        for _ in range(num_layers - 2):\n",
        "            layer = nn.Linear(hidden_channels, hidden_channels)\n",
        "            torch.nn.init.xavier_uniform(layer.weight)  \n",
        "            self.lins.append(layer)\n",
        "        layer = nn.Linear(hidden_channels, out_channels)\n",
        "        torch.nn.init.xavier_uniform(layer.weight)  \n",
        "        self.lins.append(layer)\n",
        "\n",
        "        self.dropout = dropout\n",
        "\n",
        "    def reset_parameters(self):\n",
        "        for lin in self.lins:\n",
        "            lin.reset_parameters()\n",
        "\n",
        "    def forward(self, x_i, x_j):\n",
        "        # x_i and x_j are both of shape (E, D)\n",
        "        x = x_i * x_j\n",
        "        for lin in self.lins[:-1]:\n",
        "            x = lin(x)\n",
        "            x = F.relu(x)\n",
        "            x = F.dropout(x, p=self.dropout, training=self.training)\n",
        "        x = self.lins[-1](x)\n",
        "        return torch.sigmoid(x)\n",
        "    def _init_weights(self, module):\n",
        "      if isinstance(module, nn.Linear):\n",
        "          module.weight.data.normal_(mean=0.0, std=1.0)\n",
        "          if module.bias is not None:\n",
        "              module.bias.data.zero_()\n"
      ]
    },
    {
      "cell_type": "code",
      "execution_count": 37,
      "metadata": {
        "id": "MqWO059En-rb"
      },
      "outputs": [],
      "source": [
        "def train(link_predictor, batch_size, optimizer):\n",
        "    link_predictor.train()\n",
        "\n",
        "    train_losses = []\n",
        "    n = 10\n",
        "    for iedge in range(0, train_pos_edge_index.shape[1], n):\n",
        "        # Run message passing on the inital node embeddings to get updated embeddings\n",
        "\n",
        "        # Predict the class probabilities on the batch of positive edges using link_predictor\n",
        "        pos_edge = train_pos_edge_index[:, iedge:iedge+n]  # (2, B)\n",
        "        pos_pred = link_predictor(node_stats_list[pos_edge[0]], node_stats_list[pos_edge[1]])  # (B, )\n",
        "        # print(f\"{pos_pred.shape=}\")\n",
        "        # Sample negative edges (same number as number of positive edges) and predict class probabilities \n",
        "        neg_edge = train_neg_edge_index[:, iedge:iedge+n]  # (2, B)\n",
        "        # print(f\"{neg_edge.shape=}\")\n",
        "        neg_pred = link_predictor(node_stats_list[neg_edge[0]], node_stats_list[neg_edge[1]])  # (Ne,)\n",
        "        # print(f\"{neg_pred.shape=}\")\n",
        "\n",
        "        # if iedge%1000 == 0:\n",
        "          # print(f\"{pos_pred=}\")\n",
        "          # print(f\"{neg_pred=}\")\n",
        "        # Compute the corresponding negative log likelihood loss on the positive and negative edges\n",
        "        loss = -torch.log(pos_pred + 1e-15).mean() -  torch.log(1 - neg_pred + 1e-15).mean()\n",
        "        # print(f\"{loss=}\")\n",
        "\n",
        "        # Backpropagate and update parameters\n",
        "        optimizer.zero_grad()\n",
        "        loss.backward()\n",
        "        optimizer.step()\n",
        "        # for param in link_predictor.parameters():\n",
        "          # print(param.grad)\n",
        "        train_losses.append(loss.item())\n",
        "        # print(loss.item())\n",
        "    return sum(train_losses) / len(train_losses)"
      ]
    },
    {
      "cell_type": "code",
      "execution_count": 38,
      "metadata": {
        "colab": {
          "base_uri": "https://localhost:8080/"
        },
        "id": "pMJENdVZDu44",
        "outputId": "f5bad450-fb75-4cc1-fe03-822ad9b60d90"
      },
      "outputs": [
        {
          "output_type": "stream",
          "name": "stderr",
          "text": [
            "<ipython-input-38-8cb65b2050cc>:2: UserWarning: To copy construct from a tensor, it is recommended to use sourceTensor.clone().detach() or sourceTensor.clone().detach().requires_grad_(True), rather than torch.tensor(sourceTensor).\n",
            "  node_stats_list = torch.tensor(node_stats_list).float().to(device)\n"
          ]
        }
      ],
      "source": [
        "device = torch.device('cuda' if torch.cuda.is_available() else 'cpu')\n",
        "node_stats_list = torch.tensor(node_stats_list).float().to(device)"
      ]
    },
    {
      "cell_type": "code",
      "execution_count": 38,
      "metadata": {
        "id": "8vcVn_L_aG8H"
      },
      "outputs": [],
      "source": []
    },
    {
      "cell_type": "code",
      "execution_count": 39,
      "metadata": {
        "colab": {
          "base_uri": "https://localhost:8080/"
        },
        "id": "WppNSVE0L27L",
        "outputId": "daa31591-5457-4d93-d4af-b4c55da95e71"
      },
      "outputs": [
        {
          "output_type": "execute_result",
          "data": {
            "text/plain": [
              "torch.Size([3501, 8])"
            ]
          },
          "metadata": {},
          "execution_count": 39
        }
      ],
      "source": [
        "node_stats_list.shape"
      ]
    },
    {
      "cell_type": "code",
      "execution_count": 40,
      "metadata": {
        "id": "VWKZQw62aLaa"
      },
      "outputs": [],
      "source": [
        "node_stats_list = torch.nn.functional.normalize(node_stats_list, p=2.0, dim = 1)"
      ]
    },
    {
      "cell_type": "code",
      "execution_count": 41,
      "metadata": {
        "colab": {
          "base_uri": "https://localhost:8080/"
        },
        "id": "hdkVaYufaR9e",
        "outputId": "42bae099-b317-4ea5-8cc3-d7f99dc66b6c"
      },
      "outputs": [
        {
          "output_type": "execute_result",
          "data": {
            "text/plain": [
              "(tensor(1.0000),\n",
              " tensor([9.9450e-01, 0.0000e+00, 1.4824e-03, 9.3821e-04, 1.6888e-03, 1.0303e-01,\n",
              "         1.8764e-02, 0.0000e+00]))"
            ]
          },
          "metadata": {},
          "execution_count": 41
        }
      ],
      "source": [
        "torch.norm(node_stats_list[0]), node_stats_list[0]"
      ]
    },
    {
      "cell_type": "code",
      "execution_count": 42,
      "metadata": {
        "id": "y-5G8xCzJuoK"
      },
      "outputs": [],
      "source": [
        "import tqdm\n",
        "from tqdm import tqdm"
      ]
    },
    {
      "cell_type": "code",
      "execution_count": 52,
      "metadata": {
        "colab": {
          "base_uri": "https://localhost:8080/"
        },
        "id": "jriFQf3mDRRU",
        "outputId": "ae10a9a1-d1bd-4f54-ec20-3fab8128b8d0"
      },
      "outputs": [
        {
          "output_type": "stream",
          "name": "stderr",
          "text": [
            "<ipython-input-36-b9b2c000608a>:16: UserWarning: nn.init.xavier_uniform is now deprecated in favor of nn.init.xavier_uniform_.\n",
            "  torch.nn.init.xavier_uniform(layer.weight)\n",
            "<ipython-input-36-b9b2c000608a>:19: UserWarning: nn.init.xavier_uniform is now deprecated in favor of nn.init.xavier_uniform_.\n",
            "  torch.nn.init.xavier_uniform(layer.weight)\n",
            "  2%|▏         | 1/50 [00:02<02:06,  2.58s/it]"
          ]
        },
        {
          "output_type": "stream",
          "name": "stdout",
          "text": [
            "train_loss=1.2909268091598993\n"
          ]
        },
        {
          "output_type": "stream",
          "name": "stderr",
          "text": [
            "\r  4%|▍         | 2/50 [00:04<01:58,  2.48s/it]"
          ]
        },
        {
          "output_type": "stream",
          "name": "stdout",
          "text": [
            "train_loss=1.2826369100477324\n"
          ]
        },
        {
          "output_type": "stream",
          "name": "stderr",
          "text": [
            "\r  6%|▌         | 3/50 [00:09<02:41,  3.43s/it]"
          ]
        },
        {
          "output_type": "stream",
          "name": "stdout",
          "text": [
            "train_loss=1.2940018480203888\n"
          ]
        },
        {
          "output_type": "stream",
          "name": "stderr",
          "text": [
            "\r  8%|▊         | 4/50 [00:15<03:25,  4.47s/it]"
          ]
        },
        {
          "output_type": "stream",
          "name": "stdout",
          "text": [
            "train_loss=1.2772324445609167\n"
          ]
        },
        {
          "output_type": "stream",
          "name": "stderr",
          "text": [
            "\r 10%|█         | 5/50 [00:21<03:42,  4.95s/it]"
          ]
        },
        {
          "output_type": "stream",
          "name": "stdout",
          "text": [
            "train_loss=1.259100479150688\n"
          ]
        },
        {
          "output_type": "stream",
          "name": "stderr",
          "text": [
            "\r 12%|█▏        | 6/50 [00:28<04:03,  5.53s/it]"
          ]
        },
        {
          "output_type": "stream",
          "name": "stdout",
          "text": [
            "train_loss=1.2350078638135358\n"
          ]
        },
        {
          "output_type": "stream",
          "name": "stderr",
          "text": [
            "\r 14%|█▍        | 7/50 [00:34<04:05,  5.70s/it]"
          ]
        },
        {
          "output_type": "stream",
          "name": "stdout",
          "text": [
            "train_loss=1.2338356000448143\n"
          ]
        },
        {
          "output_type": "stream",
          "name": "stderr",
          "text": [
            "\r 16%|█▌        | 8/50 [00:41<04:15,  6.08s/it]"
          ]
        },
        {
          "output_type": "stream",
          "name": "stdout",
          "text": [
            "train_loss=1.2434869121452667\n"
          ]
        },
        {
          "output_type": "stream",
          "name": "stderr",
          "text": [
            "\r 18%|█▊        | 9/50 [00:46<04:02,  5.92s/it]"
          ]
        },
        {
          "output_type": "stream",
          "name": "stdout",
          "text": [
            "train_loss=1.2285422306371971\n"
          ]
        },
        {
          "output_type": "stream",
          "name": "stderr",
          "text": [
            "\r 20%|██        | 10/50 [00:52<03:58,  5.95s/it]"
          ]
        },
        {
          "output_type": "stream",
          "name": "stdout",
          "text": [
            "train_loss=1.2184693550194066\n"
          ]
        },
        {
          "output_type": "stream",
          "name": "stderr",
          "text": [
            "\r 22%|██▏       | 11/50 [00:58<03:55,  6.05s/it]"
          ]
        },
        {
          "output_type": "stream",
          "name": "stdout",
          "text": [
            "train_loss=1.2196769935155785\n"
          ]
        },
        {
          "output_type": "stream",
          "name": "stderr",
          "text": [
            "\r 24%|██▍       | 12/50 [01:04<03:48,  6.00s/it]"
          ]
        },
        {
          "output_type": "stream",
          "name": "stdout",
          "text": [
            "train_loss=1.220368150099683\n"
          ]
        },
        {
          "output_type": "stream",
          "name": "stderr",
          "text": [
            "\r 26%|██▌       | 13/50 [01:11<03:51,  6.25s/it]"
          ]
        },
        {
          "output_type": "stream",
          "name": "stdout",
          "text": [
            "train_loss=1.2302503030954532\n"
          ]
        },
        {
          "output_type": "stream",
          "name": "stderr",
          "text": [
            "\r 28%|██▊       | 14/50 [01:18<03:50,  6.41s/it]"
          ]
        },
        {
          "output_type": "stream",
          "name": "stdout",
          "text": [
            "train_loss=1.2481287626295767\n"
          ]
        },
        {
          "output_type": "stream",
          "name": "stderr",
          "text": [
            "\r 30%|███       | 15/50 [01:24<03:43,  6.39s/it]"
          ]
        },
        {
          "output_type": "stream",
          "name": "stdout",
          "text": [
            "train_loss=1.2326610606599906\n"
          ]
        },
        {
          "output_type": "stream",
          "name": "stderr",
          "text": [
            "\r 32%|███▏      | 16/50 [01:30<03:29,  6.15s/it]"
          ]
        },
        {
          "output_type": "stream",
          "name": "stdout",
          "text": [
            "train_loss=1.2558402277228928\n"
          ]
        },
        {
          "output_type": "stream",
          "name": "stderr",
          "text": [
            "\r 34%|███▍      | 17/50 [01:36<03:20,  6.07s/it]"
          ]
        },
        {
          "output_type": "stream",
          "name": "stdout",
          "text": [
            "train_loss=1.2244677019668404\n"
          ]
        },
        {
          "output_type": "stream",
          "name": "stderr",
          "text": [
            "\r 36%|███▌      | 18/50 [01:42<03:17,  6.19s/it]"
          ]
        },
        {
          "output_type": "stream",
          "name": "stdout",
          "text": [
            "train_loss=1.2339079136354223\n"
          ]
        },
        {
          "output_type": "stream",
          "name": "stderr",
          "text": [
            "\r 38%|███▊      | 19/50 [01:48<03:03,  5.94s/it]"
          ]
        },
        {
          "output_type": "stream",
          "name": "stdout",
          "text": [
            "train_loss=1.2278814148765609\n"
          ]
        },
        {
          "output_type": "stream",
          "name": "stderr",
          "text": [
            "\r 40%|████      | 20/50 [01:54<03:00,  6.02s/it]"
          ]
        },
        {
          "output_type": "stream",
          "name": "stdout",
          "text": [
            "train_loss=1.2167623411442177\n"
          ]
        },
        {
          "output_type": "stream",
          "name": "stderr",
          "text": [
            "\r 42%|████▏     | 21/50 [02:00<02:53,  5.98s/it]"
          ]
        },
        {
          "output_type": "stream",
          "name": "stdout",
          "text": [
            "train_loss=1.2290723894699522\n"
          ]
        },
        {
          "output_type": "stream",
          "name": "stderr",
          "text": [
            "\r 44%|████▍     | 22/50 [02:05<02:42,  5.81s/it]"
          ]
        },
        {
          "output_type": "stream",
          "name": "stdout",
          "text": [
            "train_loss=1.2352620348362913\n"
          ]
        },
        {
          "output_type": "stream",
          "name": "stderr",
          "text": [
            "\r 46%|████▌     | 23/50 [02:12<02:50,  6.30s/it]"
          ]
        },
        {
          "output_type": "stream",
          "name": "stdout",
          "text": [
            "train_loss=1.236996372350118\n"
          ]
        },
        {
          "output_type": "stream",
          "name": "stderr",
          "text": [
            "\r 48%|████▊     | 24/50 [02:18<02:36,  6.03s/it]"
          ]
        },
        {
          "output_type": "stream",
          "name": "stdout",
          "text": [
            "train_loss=1.2303333201243645\n"
          ]
        },
        {
          "output_type": "stream",
          "name": "stderr",
          "text": [
            "\r 50%|█████     | 25/50 [02:24<02:30,  6.01s/it]"
          ]
        },
        {
          "output_type": "stream",
          "name": "stdout",
          "text": [
            "train_loss=1.2200810794866932\n"
          ]
        },
        {
          "output_type": "stream",
          "name": "stderr",
          "text": [
            "\r 52%|█████▏    | 26/50 [02:30<02:24,  6.04s/it]"
          ]
        },
        {
          "output_type": "stream",
          "name": "stdout",
          "text": [
            "train_loss=1.2182868520037455\n"
          ]
        },
        {
          "output_type": "stream",
          "name": "stderr",
          "text": [
            "\r 54%|█████▍    | 27/50 [02:35<02:14,  5.85s/it]"
          ]
        },
        {
          "output_type": "stream",
          "name": "stdout",
          "text": [
            "train_loss=1.2138680491932523\n"
          ]
        },
        {
          "output_type": "stream",
          "name": "stderr",
          "text": [
            "\r 56%|█████▌    | 28/50 [02:42<02:15,  6.17s/it]"
          ]
        },
        {
          "output_type": "stream",
          "name": "stdout",
          "text": [
            "train_loss=1.2091342541398105\n"
          ]
        },
        {
          "output_type": "stream",
          "name": "stderr",
          "text": [
            "\r 58%|█████▊    | 29/50 [02:48<02:07,  6.07s/it]"
          ]
        },
        {
          "output_type": "stream",
          "name": "stdout",
          "text": [
            "train_loss=1.2249145285868142\n"
          ]
        },
        {
          "output_type": "stream",
          "name": "stderr",
          "text": [
            "\r 60%|██████    | 30/50 [02:54<01:57,  5.88s/it]"
          ]
        },
        {
          "output_type": "stream",
          "name": "stdout",
          "text": [
            "train_loss=1.2083200090448596\n"
          ]
        },
        {
          "output_type": "stream",
          "name": "stderr",
          "text": [
            "\r 62%|██████▏   | 31/50 [03:00<01:56,  6.11s/it]"
          ]
        },
        {
          "output_type": "stream",
          "name": "stdout",
          "text": [
            "train_loss=1.2362882863308327\n"
          ]
        },
        {
          "output_type": "stream",
          "name": "stderr",
          "text": [
            "\r 64%|██████▍   | 32/50 [03:05<01:45,  5.86s/it]"
          ]
        },
        {
          "output_type": "stream",
          "name": "stdout",
          "text": [
            "train_loss=1.216526841705454\n"
          ]
        },
        {
          "output_type": "stream",
          "name": "stderr",
          "text": [
            "\r 66%|██████▌   | 33/50 [03:12<01:40,  5.93s/it]"
          ]
        },
        {
          "output_type": "stream",
          "name": "stdout",
          "text": [
            "train_loss=1.2570651596887557\n"
          ]
        },
        {
          "output_type": "stream",
          "name": "stderr",
          "text": [
            "\r 68%|██████▊   | 34/50 [03:18<01:36,  6.05s/it]"
          ]
        },
        {
          "output_type": "stream",
          "name": "stdout",
          "text": [
            "train_loss=1.227836348044895\n"
          ]
        },
        {
          "output_type": "stream",
          "name": "stderr",
          "text": [
            "\r 70%|███████   | 35/50 [03:23<01:27,  5.82s/it]"
          ]
        },
        {
          "output_type": "stream",
          "name": "stdout",
          "text": [
            "train_loss=1.2154950499534607\n"
          ]
        },
        {
          "output_type": "stream",
          "name": "stderr",
          "text": [
            "\r 72%|███████▏  | 36/50 [03:30<01:23,  5.98s/it]"
          ]
        },
        {
          "output_type": "stream",
          "name": "stdout",
          "text": [
            "train_loss=1.228009893775215\n"
          ]
        },
        {
          "output_type": "stream",
          "name": "stderr",
          "text": [
            "\r 74%|███████▍  | 37/50 [03:35<01:16,  5.85s/it]"
          ]
        },
        {
          "output_type": "stream",
          "name": "stdout",
          "text": [
            "train_loss=1.2135415864311117\n"
          ]
        },
        {
          "output_type": "stream",
          "name": "stderr",
          "text": [
            "\r 76%|███████▌  | 38/50 [03:40<01:08,  5.72s/it]"
          ]
        },
        {
          "output_type": "stream",
          "name": "stdout",
          "text": [
            "train_loss=1.2151506137024188\n"
          ]
        },
        {
          "output_type": "stream",
          "name": "stderr",
          "text": [
            "\r 78%|███████▊  | 39/50 [03:49<01:10,  6.41s/it]"
          ]
        },
        {
          "output_type": "stream",
          "name": "stdout",
          "text": [
            "train_loss=1.214188146842876\n"
          ]
        },
        {
          "output_type": "stream",
          "name": "stderr",
          "text": [
            "\r 80%|████████  | 40/50 [03:55<01:03,  6.39s/it]"
          ]
        },
        {
          "output_type": "stream",
          "name": "stdout",
          "text": [
            "train_loss=1.2073297028120558\n"
          ]
        },
        {
          "output_type": "stream",
          "name": "stderr",
          "text": [
            "\r 82%|████████▏ | 41/50 [04:00<00:55,  6.11s/it]"
          ]
        },
        {
          "output_type": "stream",
          "name": "stdout",
          "text": [
            "train_loss=1.229364341943598\n"
          ]
        },
        {
          "output_type": "stream",
          "name": "stderr",
          "text": [
            "\r 84%|████████▍ | 42/50 [04:07<00:49,  6.25s/it]"
          ]
        },
        {
          "output_type": "stream",
          "name": "stdout",
          "text": [
            "train_loss=1.1949475626112631\n"
          ]
        },
        {
          "output_type": "stream",
          "name": "stderr",
          "text": [
            "\r 86%|████████▌ | 43/50 [04:12<00:41,  5.98s/it]"
          ]
        },
        {
          "output_type": "stream",
          "name": "stdout",
          "text": [
            "train_loss=1.2129512945200798\n"
          ]
        },
        {
          "output_type": "stream",
          "name": "stderr",
          "text": [
            "\r 88%|████████▊ | 44/50 [04:18<00:36,  6.02s/it]"
          ]
        },
        {
          "output_type": "stream",
          "name": "stdout",
          "text": [
            "train_loss=1.205761764076987\n"
          ]
        },
        {
          "output_type": "stream",
          "name": "stderr",
          "text": [
            "\r 90%|█████████ | 45/50 [04:25<00:30,  6.12s/it]"
          ]
        },
        {
          "output_type": "stream",
          "name": "stdout",
          "text": [
            "train_loss=1.2106688678150213\n"
          ]
        },
        {
          "output_type": "stream",
          "name": "stderr",
          "text": [
            "\r 92%|█████████▏| 46/50 [04:30<00:23,  5.91s/it]"
          ]
        },
        {
          "output_type": "stream",
          "name": "stdout",
          "text": [
            "train_loss=1.2187578427585668\n"
          ]
        },
        {
          "output_type": "stream",
          "name": "stderr",
          "text": [
            "\r 94%|█████████▍| 47/50 [04:37<00:18,  6.11s/it]"
          ]
        },
        {
          "output_type": "stream",
          "name": "stdout",
          "text": [
            "train_loss=1.2190593188188812\n"
          ]
        },
        {
          "output_type": "stream",
          "name": "stderr",
          "text": [
            "\r 96%|█████████▌| 48/50 [04:42<00:11,  5.88s/it]"
          ]
        },
        {
          "output_type": "stream",
          "name": "stdout",
          "text": [
            "train_loss=1.2038088577036208\n"
          ]
        },
        {
          "output_type": "stream",
          "name": "stderr",
          "text": [
            "\r 98%|█████████▊| 49/50 [04:48<00:05,  5.93s/it]"
          ]
        },
        {
          "output_type": "stream",
          "name": "stdout",
          "text": [
            "train_loss=1.2155286545030444\n"
          ]
        },
        {
          "output_type": "stream",
          "name": "stderr",
          "text": [
            "100%|██████████| 50/50 [04:54<00:00,  5.90s/it]"
          ]
        },
        {
          "output_type": "stream",
          "name": "stdout",
          "text": [
            "train_loss=1.2363824429072712\n"
          ]
        },
        {
          "output_type": "stream",
          "name": "stderr",
          "text": [
            "\n"
          ]
        },
        {
          "output_type": "execute_result",
          "data": {
            "text/plain": [
              "1.2363824429072712"
            ]
          },
          "metadata": {},
          "execution_count": 52
        }
      ],
      "source": [
        "# train_graph = torch.load('train.pt')\n",
        "# val_graph = torch.load('val.pt')\n",
        "\n",
        "\n",
        "optim_wd = 0.001\n",
        "epochs = 50\n",
        "hidden_dim = 150\n",
        "dropout = 0.2\n",
        "num_layers = 5\n",
        "lr = 0.01\n",
        "node_emb_dim = 1\n",
        "batch_size = 10\n",
        "\n",
        "\n",
        "# train_graph = train_graph.to(device)\n",
        "# val_graph = val_graph.to(device)\n",
        "\n",
        "# model = GNNStack(node_emb_dim, hidden_dim, hidden_dim, num_layers, dropout, emb=True).to(device) # the graph neural network that takes all the node embeddings as inputs to message pass and agregate\n",
        "link_predictor = LinkPredictor(node_stats_list.shape[1], hidden_dim, 1, num_layers + 1, dropout).to(device)\n",
        "# pos_pred = link_predictor(node_emb[pos_edge[0]], node_emb[pos_edge[1]])  # (B, )\n",
        "pred = link_predictor(node_stats_list[0], node_stats_list[100])\n",
        "\n",
        "optimizer = torch.optim.Adam(\n",
        "    link_predictor.parameters(),\n",
        "    lr=lr, weight_decay=optim_wd\n",
        ")\n",
        "\n",
        "train_losses = []\n",
        "\n",
        "for epoch in tqdm(range(epochs)):\n",
        "  train_loss = train(\n",
        "\tlink_predictor, \n",
        "\tbatch_size, \n",
        "\toptimizer\n",
        "  )\n",
        "  print(f\"{train_loss=}\")\n",
        "  train_losses.append(train_loss)\n",
        "\n",
        "train_loss \n",
        "\n",
        "\n"
      ]
    },
    {
      "cell_type": "code",
      "execution_count": 53,
      "metadata": {
        "colab": {
          "base_uri": "https://localhost:8080/"
        },
        "id": "flvXwcJtUOpz",
        "outputId": "dd12de08-1ecc-42e1-9bf3-19686c6d1da0"
      },
      "outputs": [
        {
          "output_type": "execute_result",
          "data": {
            "text/plain": [
              "torch.Size([2, 1301])"
            ]
          },
          "metadata": {},
          "execution_count": 53
        }
      ],
      "source": [
        "test_pos_edge_index.shape"
      ]
    },
    {
      "cell_type": "code",
      "execution_count": 54,
      "metadata": {
        "colab": {
          "base_uri": "https://localhost:8080/"
        },
        "id": "XOiyIWjJVf6N",
        "outputId": "38449966-bd09-47d9-ad60-6af5814ad4ee"
      },
      "outputs": [
        {
          "output_type": "execute_result",
          "data": {
            "text/plain": [
              "(torch.Size([2, 1301]),\n",
              " tensor([ 258, 2320,   92,  ...,  735, 2087, 1387], dtype=torch.int32))"
            ]
          },
          "metadata": {},
          "execution_count": 54
        }
      ],
      "source": [
        "test_pos_edge_index.shape, test_pos_edge_index[0, :]"
      ]
    },
    {
      "cell_type": "code",
      "execution_count": 55,
      "metadata": {
        "colab": {
          "base_uri": "https://localhost:8080/",
          "height": 449
        },
        "id": "RVDIYDAfZSFD",
        "outputId": "f6baed9a-14ec-4877-84ac-0aa5356f8f01"
      },
      "outputs": [
        {
          "output_type": "display_data",
          "data": {
            "text/plain": [
              "<Figure size 640x480 with 1 Axes>"
            ],
            "image/png": "[encoded data removed]"
          },
          "metadata": {}
        }
      ],
      "source": [
        "import matplotlib.pyplot as plt\n",
        "\n",
        "epochs_plot = np.arange(0, epochs, 1)\n",
        "plt.plot(epochs_plot, train_losses, label=\"Train Loss\")\n",
        "plt.xlabel(\"Epoch\")\n",
        "plt.ylabel(\"Loss\")\n",
        "plt.legend()\n",
        "plt.show()"
      ]
    },
    {
      "cell_type": "code",
      "execution_count": 56,
      "metadata": {
        "id": "9kvEtM4sU2UT"
      },
      "outputs": [],
      "source": [
        "pos_preds = []\n",
        "neg_preds = []\n",
        "\n",
        "for iedge in range(0, test_pos_edge_index.shape[1], 1):\n",
        "  pos_edge = test_pos_edge_index[:, iedge:iedge+1]  # (2, B)\n",
        "  pos_pred = link_predictor(node_stats_list[pos_edge[0]], node_stats_list[pos_edge[1]])  # (B, )\n",
        "  pos_preds.append(pos_pred)\n",
        "\n",
        "  neg_edge = test_neg_edge_index[:, iedge:iedge+1]  # (2, B)\n",
        "  neg_pred = link_predictor(node_stats_list[neg_edge[0]], node_stats_list[neg_edge[1]])  # (Ne,)\n",
        "  neg_preds.append(neg_pred)"
      ]
    },
    {
      "cell_type": "code",
      "execution_count": 57,
      "metadata": {
        "id": "HOoXOzH4Wml3"
      },
      "outputs": [],
      "source": [
        "pos_preds = torch.tensor(pos_preds)\n",
        "neg_preds = torch.tensor(neg_preds)\n",
        "\n",
        "true_positives = (pos_preds>0.5).sum() \n",
        "false_negatives = (pos_preds<0.5).sum() \n",
        "\n",
        "true_negatives= (neg_preds<0.5).sum() \n",
        "false_positives = (neg_preds>0.5).sum() \n",
        "confusion_matrix = torch.tensor([  [true_positives,false_positives ] ,   [false_negatives, true_negatives]])"
      ]
    },
    {
      "cell_type": "code",
      "execution_count": 58,
      "metadata": {
        "colab": {
          "base_uri": "https://localhost:8080/",
          "height": 447
        },
        "id": "gqEkijctXRSJ",
        "outputId": "45ecc2d0-2353-4177-8540-e6c50cee9134"
      },
      "outputs": [
        {
          "output_type": "execute_result",
          "data": {
            "text/plain": [
              "<Axes: >"
            ]
          },
          "metadata": {},
          "execution_count": 58
        },
        {
          "output_type": "display_data",
          "data": {
            "text/plain": [
              "<Figure size 640x480 with 2 Axes>"
            ],
            "image/png": "[encoded data removed]"
          },
          "metadata": {}
        }
      ],
      "source": [
        "import seaborn as sns\n",
        "sns.heatmap(confusion_matrix, annot=True, cmap='Blues')"
      ]
    },
    {
      "cell_type": "code",
      "execution_count": 59,
      "metadata": {
        "colab": {
          "base_uri": "https://localhost:8080/"
        },
        "id": "fIBJoLRAa8u-",
        "outputId": "609da16b-3213-451c-e618-2150ac7d8f1a"
      },
      "outputs": [
        {
          "output_type": "stream",
          "name": "stdout",
          "text": [
            "accuracy=tensor(0.5911)\n"
          ]
        }
      ],
      "source": [
        "accuracy= (true_positives + true_negatives) / (true_positives + true_negatives + false_positives + false_negatives )\n",
        "print(f\"{accuracy=}\")"
      ]
    },
    {
      "cell_type": "code",
      "execution_count": 51,
      "metadata": {
        "colab": {
          "base_uri": "https://localhost:8080/",
          "height": 447
        },
        "id": "EjnXfKOkYpcN",
        "outputId": "f4fe9dd8-d9af-4883-f310-1bb9fb50ae0a"
      },
      "outputs": [
        {
          "output_type": "execute_result",
          "data": {
            "text/plain": [
              "<Axes: >"
            ]
          },
          "metadata": {},
          "execution_count": 51
        },
        {
          "output_type": "display_data",
          "data": {
            "text/plain": [
              "<Figure size 640x480 with 2 Axes>"
            ],
            "image/png": "[encoded data removed]"
          },
          "metadata": {}
        }
      ],
      "source": [
        "labels = ['True Neg','False Pos','False Neg','True Pos']\n",
        "labels = np.asarray(labels).reshape(2,2)\n",
        "sns.heatmap(confusion_matrix, annot=labels, fmt='', cmap='Blues')"
      ]
    },
    {
      "cell_type": "code",
      "execution_count": null,
      "metadata": {
        "colab": {
          "base_uri": "https://localhost:8080/"
        },
        "id": "SIKUQCV6EAm1",
        "outputId": "eefd82cc-1386-44e2-b127-9dd462e63498"
      },
      "outputs": [
        {
          "data": {
            "text/plain": [
              "1.2941446313526639"
            ]
          },
          "execution_count": 130,
          "metadata": {},
          "output_type": "execute_result"
        }
      ],
      "source": [
        "\n",
        "train_loss  "
      ]
    },
    {
      "cell_type": "code",
      "execution_count": null,
      "metadata": {
        "id": "jJfYEuzdIPgw"
      },
      "outputs": [],
      "source": [
        "pred = link_predictor(node_stats_list[0], node_stats_list[00])\n",
        "pred"
      ]
    },
    {
      "cell_type": "code",
      "execution_count": null,
      "metadata": {
        "id": "HTMkFZXZIiJQ"
      },
      "outputs": [],
      "source": []
    }
  ],
  "metadata": {
    "colab": {
      "provenance": []
    },
    "kernelspec": {
      "display_name": "Python 3",
      "name": "python3"
    }
  },
  "nbformat": 4,
  "nbformat_minor": 0
}